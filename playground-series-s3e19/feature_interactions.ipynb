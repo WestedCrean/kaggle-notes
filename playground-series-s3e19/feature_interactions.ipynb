{
 "cells": [
  {
   "cell_type": "markdown",
   "metadata": {},
   "source": [
    "# Feature interactions"
   ]
  },
  {
   "cell_type": "code",
   "execution_count": 3,
   "metadata": {},
   "outputs": [],
   "source": [
    "import pandas as pd\n",
    "import numpy as np\n",
    "import matplotlib.pyplot as plt\n",
    "import seaborn as sns\n",
    "\n",
    "data_path = \"./data/\"\n",
    "df_train = pd.read_csv(data_path + \"train.csv\")\n",
    "df_test = pd.read_csv(data_path + \"test.csv\")\n",
    "df_train.drop('id', axis=1, inplace=True)\n",
    "df_train['date'] = pd.to_datetime(df_train['date'])"
   ]
  },
  {
   "cell_type": "code",
   "execution_count": 4,
   "metadata": {},
   "outputs": [],
   "source": [
    "#! python -m pip install pdpbox"
   ]
  },
  {
   "cell_type": "code",
   "execution_count": 9,
   "metadata": {},
   "outputs": [
    {
     "ename": "AttributeError",
     "evalue": "module 'pdpbox.pdp' has no attribute 'pdp_interact'",
     "output_type": "error",
     "traceback": [
      "\u001b[1;31m---------------------------------------------------------------------------\u001b[0m",
      "\u001b[1;31mAttributeError\u001b[0m                            Traceback (most recent call last)",
      "Cell \u001b[1;32mIn[9], line 17\u001b[0m\n\u001b[0;32m     14\u001b[0m rf\u001b[39m.\u001b[39mfit(df_train[[\u001b[39m'\u001b[39m\u001b[39mcountry\u001b[39m\u001b[39m'\u001b[39m, \u001b[39m'\u001b[39m\u001b[39mproduct\u001b[39m\u001b[39m'\u001b[39m]], df_train[\u001b[39m'\u001b[39m\u001b[39mnum_sold\u001b[39m\u001b[39m'\u001b[39m])\n\u001b[0;32m     16\u001b[0m \u001b[39m# create the data that we will plot\u001b[39;00m\n\u001b[1;32m---> 17\u001b[0m pdp_country_product \u001b[39m=\u001b[39m pdp\u001b[39m.\u001b[39;49mpdp_interact(\n\u001b[0;32m     18\u001b[0m     model\u001b[39m=\u001b[39mrf,\n\u001b[0;32m     19\u001b[0m     dataset\u001b[39m=\u001b[39mdf_train[[\u001b[39m'\u001b[39m\u001b[39mcountry\u001b[39m\u001b[39m'\u001b[39m, \u001b[39m'\u001b[39m\u001b[39mproduct\u001b[39m\u001b[39m'\u001b[39m]],\n\u001b[0;32m     20\u001b[0m     model_features\u001b[39m=\u001b[39m[\u001b[39m'\u001b[39m\u001b[39mcountry\u001b[39m\u001b[39m'\u001b[39m, \u001b[39m'\u001b[39m\u001b[39mproduct\u001b[39m\u001b[39m'\u001b[39m]\n\u001b[0;32m     21\u001b[0m )\n\u001b[0;32m     23\u001b[0m \u001b[39m# plot it\u001b[39;00m\n\u001b[0;32m     24\u001b[0m pdp\u001b[39m.\u001b[39mpdp_interact_plot(\n\u001b[0;32m     25\u001b[0m     pdp_country_product,\n\u001b[0;32m     26\u001b[0m     [\u001b[39m'\u001b[39m\u001b[39mcountry\u001b[39m\u001b[39m'\u001b[39m, \u001b[39m'\u001b[39m\u001b[39mproduct\u001b[39m\u001b[39m'\u001b[39m],\n\u001b[1;32m   (...)\u001b[0m\n\u001b[0;32m     29\u001b[0m     plot_pdp\u001b[39m=\u001b[39m\u001b[39mTrue\u001b[39;00m\n\u001b[0;32m     30\u001b[0m )\n",
      "\u001b[1;31mAttributeError\u001b[0m: module 'pdpbox.pdp' has no attribute 'pdp_interact'"
     ]
    }
   ],
   "source": [
    "# create a pdp interact plot between country and product\n",
    "from pdpbox import pdp\n",
    "from sklearn.ensemble import RandomForestRegressor\n",
    "\n",
    "# LabelEncoder]\n",
    "from sklearn.preprocessing import LabelEncoder\n",
    "le = LabelEncoder()\n",
    "df_train['country'] = le.fit_transform(df_train['country'])\n",
    "df_train['product'] = le.fit_transform(df_train['product'])\n",
    "\n"
   ]
  }
 ],
 "metadata": {
  "kernelspec": {
   "display_name": "Python 3",
   "language": "python",
   "name": "python3"
  },
  "language_info": {
   "codemirror_mode": {
    "name": "ipython",
    "version": 3
   },
   "file_extension": ".py",
   "mimetype": "text/x-python",
   "name": "python",
   "nbconvert_exporter": "python",
   "pygments_lexer": "ipython3",
   "version": "3.10.11"
  },
  "orig_nbformat": 4
 },
 "nbformat": 4,
 "nbformat_minor": 2
}
