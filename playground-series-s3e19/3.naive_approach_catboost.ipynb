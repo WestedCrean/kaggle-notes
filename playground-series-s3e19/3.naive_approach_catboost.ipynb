{
 "cells": [
  {
   "cell_type": "markdown",
   "metadata": {},
   "source": [
    "# Naive approach catboost"
   ]
  },
  {
   "cell_type": "code",
   "execution_count": null,
   "metadata": {},
   "outputs": [],
   "source": [
    "import pandas as pd\n",
    "import numpy as np\n",
    "import matplotlib.pyplot as plt\n",
    "import seaborn as sns\n",
    "\n",
    "data_path = \"./data/\"\n",
    "df_train = pd.read_csv(data_path + \"train.csv\")\n",
    "df_test = pd.read_csv(data_path + \"test.csv\")\n",
    "\n",
    "# drop id\n",
    "df_train.drop('id', axis=1, inplace=True)\n",
    "\n",
    "df_train['date'] = pd.to_datetime(df_train['date'])\n",
    "\n",
    "df_train.head(10)"
   ]
  },
  {
   "cell_type": "code",
   "execution_count": null,
   "metadata": {},
   "outputs": [],
   "source": [
    "# split date into year, month, day\n",
    "df_train['year'] = df_train['date'].dt.year\n",
    "df_train['month'] = df_train['date'].dt.month\n",
    "df_train['day'] = df_train['date'].dt.day\n",
    "\n",
    "# drop date\n",
    "df_train_0 = df_train.drop('date', axis=1)\n",
    "\n",
    "# one-hot encoding of 'country', 'store', 'product' columns\n",
    "#df_train = pd.get_dummies(df_train, columns=['country', 'store', 'product'])\n",
    "\n",
    "\n",
    "df_train_0['country'] = df_train_0['country'].astype('category')\n",
    "df_train_0['store'] = df_train_0['store'].astype('category')\n",
    "df_train_0['product'] = df_train_0['product'].astype('category')\n",
    "\n",
    "df_train_0.head(10)"
   ]
  },
  {
   "cell_type": "code",
   "execution_count": null,
   "metadata": {},
   "outputs": [],
   "source": [
    "df_train_0.info()"
   ]
  },
  {
   "cell_type": "code",
   "execution_count": null,
   "metadata": {},
   "outputs": [],
   "source": [
    "# split into train and validation\n",
    "from sklearn.model_selection import TimeSeriesSplit\n",
    "from sklearn.metrics import mean_squared_error, median_absolute_error\n",
    "\n",
    "from catboost import Pool, CatBoostRegressor\n",
    "\n",
    "results_mse = []\n",
    "results_mae = []\n",
    "\n",
    "\n",
    "for train_index, val_index in TimeSeriesSplit(n_splits=5).split(df_train_0):\n",
    "    X_train = df_train_0.iloc[train_index]\n",
    "    y_train = df_train_0.iloc[train_index]['num_sold']\n",
    "\n",
    "    X_val = df_train_0.iloc[val_index]\n",
    "    y_val = df_train_0.iloc[val_index]['num_sold']\n",
    "\n",
    "    cat_features = [0, 1, 2]\n",
    "      \n",
    "    train_pool = Pool(X_train, y_train, cat_features=cat_features)\n",
    "    val_pool = Pool(X_val, cat_features=cat_features)\n",
    "\n",
    "    model = CatBoostRegressor(random_state=42, objective='MAE', task_type='GPU')\n",
    "    model.fit(train_pool, early_stopping_rounds=50, silent=False)\n",
    "    \n",
    "    # evaluate on validation set\n",
    "    y_pred = model.predict(val_pool)\n",
    "    mse = mean_squared_error(y_val, y_pred)\n",
    "    mae = median_absolute_error(y_val, y_pred)\n",
    "    \n",
    "    results_mse.append(\"%.2f\" % mse)\n",
    "    results_mae.append(\"%.2f\" % mae)\n",
    "    del model\n",
    "\n",
    "print(f\"Mean squared error for each split: | {' | '.join(results_mse)} |\")\n",
    "print(f\"Median absolute error for each split: | {' | '.join(results_mae)} |\")"
   ]
  },
  {
   "cell_type": "code",
   "execution_count": null,
   "metadata": {},
   "outputs": [],
   "source": [
    "# train on full data\n",
    "X_train = df_train_0.drop('num_sold', axis=1)\n",
    "y_train = df_train_0['num_sold']\n",
    "\n",
    "train_pool = Pool(X_train, y_train, cat_features=cat_features)\n",
    "\n",
    "model = CatBoostRegressor(silent=True, random_state=42, objective='MAE')\n",
    "model.fit(train_pool)"
   ]
  },
  {
   "cell_type": "code",
   "execution_count": null,
   "metadata": {},
   "outputs": [],
   "source": [
    "X_train['date'] = pd.to_datetime(X_train['year'].astype(str) + '-' + X_train['month'].astype(str) + '-' + X_train['day'].astype(str))\n",
    "X_val['date'] = pd.to_datetime(X_val['year'].astype(str) + '-' + X_val['month'].astype(str) + '-' + X_val['day'].astype(str))\n",
    "\n",
    "# sort by date\n",
    "X_train.sort_values(by='date', inplace=True)\n",
    "X_val.sort_values(by='date', inplace=True)\n",
    "\n",
    "# plot 'num_sold' vs 'date'\n",
    "fig, ax = plt.subplots(figsize=(15, 5))\n",
    "\n",
    "ax.plot(X_train['date'], y_train, label='train', color='lightblue')\n",
    "ax.plot(X_val['date'], y_val, label='validation', color='red')\n",
    "\n",
    "ax.set_xlabel('date')\n",
    "ax.set_ylabel('num_sold')\n",
    "\n",
    "ax.legend()\n",
    "plt.show()"
   ]
  },
  {
   "cell_type": "code",
   "execution_count": null,
   "metadata": {},
   "outputs": [],
   "source": [
    "df_val['prediction'] = model.predict(df_val[['year', 'month', 'day', 'country', 'store', 'product']])\n",
    "df_val['prediction'] = df_val['prediction'].astype(int)\n",
    "df_val"
   ]
  },
  {
   "cell_type": "code",
   "execution_count": null,
   "metadata": {},
   "outputs": [],
   "source": [
    "# test \n",
    "\n",
    "df_test = pd.read_csv(data_path + \"test.csv\")\n",
    "df_test_0 = df_test.drop('id', axis=1)\n",
    "df_test_0['date'] = pd.to_datetime(df_test_0['date'])\n",
    "\n",
    "df_test_0['year'] = df_test_0['date'].dt.year\n",
    "df_test_0['month'] = df_test_0['date'].dt.month\n",
    "df_test_0['day'] = df_test_0['date'].dt.day\n",
    "\n",
    "\n",
    "df_test_0['country'] = df_test_0['country'].astype('category')\n",
    "df_test_0['store'] = df_test_0['store'].astype('category')\n",
    "df_test_0['product'] = df_test_0['product'].astype('category')\n",
    "\n",
    "# predict for test set\n",
    "\n",
    "df_test_0['prediction'] = model.predict(df_test_0[['year', 'month', 'day', 'country', 'store', 'product']])\n",
    "df_test_0['prediction'] = df_test_0['prediction'].astype(int)\n",
    "df_test_0"
   ]
  },
  {
   "cell_type": "code",
   "execution_count": null,
   "metadata": {},
   "outputs": [],
   "source": [
    "# join df_test with df_test_0 on date, country, store and product\n",
    "\n",
    "df_test_0['date'] = df_test_0['date'].astype(str)\n",
    "df_test['date'] = df_test['date'].astype(str)\n",
    "\n",
    "df_test_1 = pd.merge(df_test, df_test_0, on=['date', 'country', 'store', 'product'], how='outer')\n",
    "df_test_1"
   ]
  },
  {
   "cell_type": "code",
   "execution_count": null,
   "metadata": {},
   "outputs": [],
   "source": [
    "df_test_1['num_sold'] = df_test_1['prediction']\n",
    "df_test_1[['id', 'num_sold']].to_csv('first_submission.csv', index=False)"
   ]
  }
 ],
 "metadata": {
  "kernelspec": {
   "display_name": "Python 3",
   "language": "python",
   "name": "python3"
  },
  "language_info": {
   "codemirror_mode": {
    "name": "ipython",
    "version": 3
   },
   "file_extension": ".py",
   "mimetype": "text/x-python",
   "name": "python",
   "nbconvert_exporter": "python",
   "pygments_lexer": "ipython3",
   "version": "3.10.11"
  },
  "orig_nbformat": 4
 },
 "nbformat": 4,
 "nbformat_minor": 2
}
