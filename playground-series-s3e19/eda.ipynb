{
 "cells": [
  {
   "cell_type": "markdown",
   "metadata": {},
   "source": [
    "# EDA"
   ]
  },
  {
   "cell_type": "markdown",
   "metadata": {},
   "source": [
    "In this dataset, we are presented with sales data. Following columns are available:\n",
    "\n",
    "- date\n",
    "- country\n",
    "- store\n",
    "- product\n",
    "- num_sold - quantity of product sold in given day\n",
    "\n",
    "The task is to use this data to predict sales for the next year."
   ]
  },
  {
   "cell_type": "code",
   "execution_count": null,
   "metadata": {},
   "outputs": [],
   "source": [
    "import pandas as pd\n",
    "import numpy as np\n",
    "import matplotlib.pyplot as plt\n",
    "import seaborn as sns\n",
    "\n",
    "data_path = \"./data/\"\n",
    "df_train = pd.read_csv(data_path + \"train.csv\")\n",
    "df_test = pd.read_csv(data_path + \"test.csv\")\n",
    "\n",
    "# drop id\n",
    "df_train.drop('id', axis=1, inplace=True)\n",
    "\n",
    "df_train['date'] = pd.to_datetime(df_train['date'])\n",
    "\n",
    "df_train.head(10)"
   ]
  },
  {
   "cell_type": "code",
   "execution_count": null,
   "metadata": {},
   "outputs": [],
   "source": [
    "# check if there are any null values\n",
    "df_train.isnull().sum()"
   ]
  },
  {
   "cell_type": "markdown",
   "metadata": {},
   "source": [
    "### date column"
   ]
  },
  {
   "cell_type": "code",
   "execution_count": null,
   "metadata": {},
   "outputs": [],
   "source": [
    "start_date = df_train['date'].min()\n",
    "end_date = df_train['date'].max()\n",
    "number_of_years = (end_date - start_date).days / 365\n",
    "print(\"Start date: \", start_date)\n",
    "print(\"End date: \", end_date)\n",
    "print(\"Number of years: \", number_of_years)"
   ]
  },
  {
   "cell_type": "markdown",
   "metadata": {},
   "source": [
    "### Total sales"
   ]
  },
  {
   "cell_type": "code",
   "execution_count": null,
   "metadata": {},
   "outputs": [],
   "source": [
    "# group by date and sum the num_sold as total_sales\n",
    "\n",
    "total_sales_daily = df_train[['date', 'num_sold']].groupby('date').sum().reset_index()\n",
    "total_sales_weekly = df_train[['date', 'num_sold']].groupby('date').sum().resample('W').sum().reset_index()\n",
    "\n",
    "total_sales_daily.columns = ['date', 'total_sales']\n",
    "total_sales_weekly.columns = ['date', 'total_sales']\n",
    "\n",
    "total_sales_daily"
   ]
  },
  {
   "cell_type": "code",
   "execution_count": null,
   "metadata": {},
   "outputs": [],
   "source": [
    "def plot_time_series_data(df, title='Total Sales Daily', color='dodgerblue'):\n",
    "    fig, ax = plt.subplots(figsize=(15, 5))\n",
    "    ax.plot(df['date'], df['total_sales'], color=color)\n",
    "    ax.set_xlabel('Date')\n",
    "    ax.set_ylabel('Total Sales')\n",
    "    ax.set_title(title)\n",
    "    plt.show()\n",
    "\n",
    "plot_time_series_data(total_sales_daily, title='Total Sales Daily')"
   ]
  },
  {
   "cell_type": "code",
   "execution_count": null,
   "metadata": {},
   "outputs": [],
   "source": [
    "\n",
    "plot_time_series_data(total_sales_weekly, title='Total Sales Weekly', color='lightcoral')"
   ]
  },
  {
   "cell_type": "code",
   "execution_count": null,
   "metadata": {},
   "outputs": [],
   "source": [
    "days_of_week = ['Monday', 'Tuesday', 'Wednesday', 'Thursday', 'Friday', 'Saturday', 'Sunday'] # The day of the week with Monday=0, Sunday=6. - pandas doc\n",
    "\n",
    "def boxplot_sales_by_column(df, column, order=None, color_palette='Set1'):\n",
    "    fig, ax = plt.subplots(figsize=(15, 5))\n",
    "    sns.boxplot(x=column, y='num_sold', data=df, ax=ax, order=order, palette=color_palette)\n",
    "    ax.set_ylabel('Number of Sales')\n",
    "    ax.set_xlabel('')\n",
    "    ax.set_title(f'Number of Sales by {column}')\n",
    "    plt.show()\n",
    "\n",
    "df_train['weekday'] = df_train['date'].dt.weekday\n",
    "# translate weekday to weekday name\n",
    "df_train['weekday'] = df_train['weekday'].map(lambda x: days_of_week[x])\n",
    "boxplot_sales_by_column(df_train, 'weekday', order=days_of_week)"
   ]
  },
  {
   "cell_type": "code",
   "execution_count": null,
   "metadata": {},
   "outputs": [],
   "source": [
    "def barplot_sales_by_column(df, column, order=None, color_palette='Set1'):\n",
    "    fig, ax = plt.subplots(figsize=(15, 5))\n",
    "    sns.barplot(x=column, y='num_sold', data=df, ax=ax, order=order, palette=color_palette)\n",
    "    ax.set_ylabel('Number of Sales')\n",
    "    ax.set_xlabel('')\n",
    "    ax.set_title(f'Number of Sales by {column}')\n",
    "    plt.show()\n",
    "\n",
    "barplot_sales_by_column(df_train, 'weekday', order=days_of_week)"
   ]
  },
  {
   "cell_type": "markdown",
   "metadata": {},
   "source": [
    "Observations: \n",
    "\n",
    "- As described on competition page, dataset contains yearly seasonality (peaks at the beginning of each year)\n",
    "- Data is inspired by real world as we can see dip in sales in April 2020\n",
    "- Biggest sales are happening Sunday, Saturday and Friday, from the 1st to the 3rd biggest"
   ]
  },
  {
   "cell_type": "markdown",
   "metadata": {},
   "source": [
    "### Countries"
   ]
  },
  {
   "cell_type": "code",
   "execution_count": null,
   "metadata": {},
   "outputs": [],
   "source": [
    "print(\"Number of unique countries: \", df_train['country'].nunique())\n",
    "total_sales_by_country = df_train[['country', 'num_sold']].groupby('country').sum().reset_index().sort_values(by='num_sold', ascending=False)\n",
    "total_sales_by_country"
   ]
  },
  {
   "cell_type": "code",
   "execution_count": null,
   "metadata": {},
   "outputs": [],
   "source": [
    "# assign each country to a color\n",
    "country_color_palette = dict(zip(total_sales_by_country['country'], sns.color_palette('Set1', len(total_sales_by_country['country']))))"
   ]
  },
  {
   "cell_type": "code",
   "execution_count": null,
   "metadata": {},
   "outputs": [],
   "source": [
    "boxplot_sales_by_column(df_train, 'country', order=total_sales_by_country['country'], color_palette=country_color_palette)"
   ]
  },
  {
   "cell_type": "code",
   "execution_count": null,
   "metadata": {},
   "outputs": [],
   "source": [
    "barplot_sales_by_column(df_train, 'country', order=total_sales_by_country['country'], color_palette=country_color_palette)"
   ]
  },
  {
   "cell_type": "code",
   "execution_count": null,
   "metadata": {},
   "outputs": [],
   "source": [
    "total_sales_by_country_daily = df_train[['date', 'country', 'num_sold']].groupby(['date', 'country']).sum().reset_index()\n",
    "total_sales_by_country_daily.columns = ['date', 'country', 'total_sales']\n",
    "total_sales_by_country_daily"
   ]
  },
  {
   "cell_type": "code",
   "execution_count": null,
   "metadata": {},
   "outputs": [],
   "source": [
    "fig, ax = plt.subplots(figsize=(15, 5))\n",
    "\n",
    "sns.lineplot(x='date', y='total_sales', hue='country', data=total_sales_by_country_daily, ax=ax, palette=country_color_palette)\n",
    "ax.set_xlabel('Date')\n",
    "ax.set_title('Number of Sales by Country')"
   ]
  },
  {
   "cell_type": "markdown",
   "metadata": {},
   "source": [
    "Observations: \n",
    "\n",
    "- Canada is the biggest country in sales\n",
    "- Each country follows similar pattern, with two exceptions: Japan does not have its peaks at the beginning of each year, but during the first half. Canada at the beginning of 2021 has a more significant jump in sales compared to other countries.\n",
    "- Spain during peaks at the beginning of each year surpasses sales in Japan (which, again, has no peaks there)"
   ]
  },
  {
   "cell_type": "markdown",
   "metadata": {},
   "source": [
    "### store\n",
    "\n"
   ]
  },
  {
   "cell_type": "code",
   "execution_count": null,
   "metadata": {},
   "outputs": [],
   "source": [
    "print(\"Number of unique stores: \", df_train['store'].nunique())\n",
    "total_sales_by_store = df_train[['store', 'num_sold']].groupby('store').sum().reset_index().sort_values(by='num_sold', ascending=False)\n",
    "total_sales_by_store"
   ]
  },
  {
   "cell_type": "code",
   "execution_count": null,
   "metadata": {},
   "outputs": [],
   "source": [
    "total_sales_by_store_daily = df_train[['date', 'store', 'num_sold']].groupby(['date', 'store']).sum().reset_index()\n",
    "total_sales_by_store_daily.columns = ['date', 'store', 'total_sales']\n",
    "\n",
    "fig, ax = plt.subplots(figsize=(15, 5))\n",
    "\n",
    "sns.lineplot(x='date', y='total_sales', hue='store', data=total_sales_by_store_daily, ax=ax, palette='Set1')\n",
    "\n",
    "# for each store plot the average number of sales between 2017-01-01 and 2020-01-01\n",
    "start_date = '2017-01-01'\n",
    "end_date = '2020-01-01'\n",
    "\n",
    "total_sales_by_store_daily_2017_2020 = total_sales_by_store_daily[(total_sales_by_store_daily['date'] >= start_date) & (total_sales_by_store_daily['date'] < end_date)]\n",
    "\n",
    "# for each store calculate its average number of sales\n",
    "average_sales_by_store = total_sales_by_store_daily_2017_2020[['store', 'total_sales']].groupby('store').mean().reset_index()\n",
    "average_sales_by_store.columns = ['store', 'average_sales']\n",
    "\n",
    "# plot the average number of sales for each store as horizontal line on existing plot\n",
    "for store in average_sales_by_store['store']:\n",
    "    average_sales = average_sales_by_store[average_sales_by_store['store'] == store]['average_sales'].values[0]\n",
    "    ax.axhline(y=average_sales, color='black', linestyle='--')\n",
    "\n",
    "ax.set_xlabel('Date')\n",
    "ax.set_title('Number of Sales by store')\n",
    "average_sales_by_store"
   ]
  },
  {
   "cell_type": "code",
   "execution_count": null,
   "metadata": {},
   "outputs": [],
   "source": [
    "# \"Kagglazon\"\n",
    "\n",
    "lowest_sales_by_store_kagglazon = df_train[df_train['store'] == 'Kagglazon'][['date', 'num_sold']].groupby('date').sum().reset_index().sort_values(by='num_sold', ascending=True)\n",
    "lowest_sales_by_store_kagglazon.head(3)\n",
    "\n",
    "# take lowest value\n",
    "lowest_sales_kagglazon = lowest_sales_by_store_kagglazon['num_sold'].min()\n",
    "lowest_sales_kagglazon\n",
    "\n",
    "# compare the percentage drop in sales using average_sales_by_store\n",
    "average_sales_kagglazon = average_sales_by_store[average_sales_by_store['store'] == 'Kagglazon']['average_sales'].values[0]\n",
    "\n",
    "percentage_drop_kagglazon = (lowest_sales_kagglazon - average_sales_kagglazon) / average_sales_kagglazon * 100\n",
    "\"Between the end of 2019 and april 2020, Kagglazon experienced a drop of {:.2f}% in sales\".format(percentage_drop_kagglazon)"
   ]
  },
  {
   "cell_type": "code",
   "execution_count": null,
   "metadata": {},
   "outputs": [],
   "source": [
    "# \"Kaggle Learn\"\n",
    "\n",
    "lowest_sales_by_store_learn = df_train[df_train['store'] == 'Kaggle Learn'][['date', 'num_sold']].groupby('date').sum().reset_index().sort_values(by='num_sold', ascending=True)\n",
    "lowest_sales_by_store_learn.head(3)\n",
    "\n",
    "# take lowest value\n",
    "lowest_sales_learn = lowest_sales_by_store_learn['num_sold'].min()\n",
    "\n",
    "# compare the percentage drop in sales using average_sales_by_store\n",
    "average_sales_learn = average_sales_by_store[average_sales_by_store['store'] == 'Kaggle Learn']['average_sales'].values[0]\n",
    "\n",
    "percentage_drop_learn = (lowest_sales_learn - average_sales_learn) / average_sales_learn * 100\n",
    "\"Between the end of 2019 and april 2020, Kaggle Learn experienced a drop of {:.2f}% in sales\".format(percentage_drop_learn)"
   ]
  },
  {
   "cell_type": "code",
   "execution_count": null,
   "metadata": {},
   "outputs": [],
   "source": [
    "#  \"Kaggle Store\"\n",
    "\n",
    "lowest_sales_by_store_store = df_train[df_train['store'] == 'Kaggle Store'][['date', 'num_sold']].groupby('date').sum().reset_index().sort_values(by='num_sold', ascending=True)\n",
    "lowest_sales_by_store_store.head(3)\n",
    "\n",
    "# take lowest value\n",
    "lowest_sales_store = lowest_sales_by_store_store['num_sold'].min()\n",
    "\n",
    "# compare the percentage drop in sales using average_sales_by_store\n",
    "average_sales_store = average_sales_by_store[average_sales_by_store['store'] == 'Kaggle Store']['average_sales'].values[0]\n",
    "\n",
    "percentage_drop_store = (lowest_sales_store - average_sales_store) / average_sales_store * 100\n",
    "\"Between the end of 2019 and april 2020, Kaggle Store experienced a drop of {:.2f}% in sales\".format(percentage_drop_store)"
   ]
  },
  {
   "cell_type": "markdown",
   "metadata": {},
   "source": [
    "Observations: \n",
    "\n",
    "- Kagglazon sells consistently the most courses, by an order of magnitude more than Kaggle Learn/Store\n",
    "- The effect of april 2020 dip is seen more pronounced there, while in Kaggle Learn/Store it's much smaller at first glance\n",
    "- After calculating the relative drop in sales, it is the same -37% for all three stores"
   ]
  },
  {
   "cell_type": "markdown",
   "metadata": {},
   "source": [
    "### product"
   ]
  },
  {
   "cell_type": "code",
   "execution_count": null,
   "metadata": {},
   "outputs": [],
   "source": [
    "print(\"Number of unique products: \", df_train['product'].nunique())\n",
    "total_sales_by_product = df_train[['product', 'num_sold']].groupby('product').sum().reset_index().sort_values(by='num_sold', ascending=False)\n",
    "total_sales_by_product"
   ]
  },
  {
   "cell_type": "code",
   "execution_count": null,
   "metadata": {},
   "outputs": [],
   "source": [
    "product_palette = dict(zip(total_sales_by_product['product'], sns.color_palette('Set2', len(total_sales_by_product['product']))))"
   ]
  },
  {
   "cell_type": "code",
   "execution_count": null,
   "metadata": {},
   "outputs": [],
   "source": [
    "total_sales_by_product_daily = df_train[['date', 'product', 'num_sold']].groupby(['date', 'product']).sum().reset_index()\n",
    "total_sales_by_product_daily.columns = ['date', 'product', 'total_sales']\n",
    "\n",
    "fig, ax = plt.subplots(figsize=(15, 5))\n",
    "sns.lineplot(x='date', y='total_sales', hue='product', data=total_sales_by_product_daily, ax=ax, palette=product_palette)\n",
    "ax.set_xlabel('Date')\n",
    "ax.set_title('Number of Sales by product')"
   ]
  },
  {
   "cell_type": "code",
   "execution_count": null,
   "metadata": {},
   "outputs": [],
   "source": [
    "products = df_train['product'].unique()\n",
    "# remove \"Using LLMs to Win Friends and Influence People\" from products\n",
    "products = products[products != \"Using LLMs to Win Friends and Influence People\"]\n",
    "\n",
    "# for each product plot lineplot of total_sales\n",
    "for product in products:\n",
    "    product_sales = total_sales_by_product_daily[total_sales_by_product_daily['product'] == product]\n",
    "    fig, ax = plt.subplots(figsize=(15, 5))\n",
    "    sns.lineplot(x='date', y='total_sales', data=product_sales, ax=ax, color=product_palette[product])\n",
    "    ax.set_title(f'Number of Sales for {product}')\n",
    "    plt.show()"
   ]
  },
  {
   "cell_type": "markdown",
   "metadata": {},
   "source": [
    "Observations:\n",
    "\n",
    "- here we clearly see the seasonality and periodicallity of our data (except the light green line)"
   ]
  },
  {
   "cell_type": "markdown",
   "metadata": {},
   "source": [
    "### Country x product"
   ]
  },
  {
   "cell_type": "code",
   "execution_count": null,
   "metadata": {},
   "outputs": [],
   "source": [
    "df_train[['country', 'product', 'num_sold']]\n",
    "\n",
    "# create a new column called country_x_product\n",
    "df_train['country_x_product'] = df_train['country'] + ' x ' + df_train['product']\n",
    "df_train[['country', 'product', 'country_x_product']]\n",
    "print(\"Number of unique country x product: \", df_train['country_x_product'].nunique())\n",
    "\n",
    "# show number of sales for each country x product\n",
    "total_sales_by_country_x_product = df_train[['country_x_product', 'num_sold']].groupby('country_x_product').sum().reset_index().sort_values(by='num_sold', ascending=False)\n",
    "total_sales_by_country_x_product"
   ]
  },
  {
   "cell_type": "code",
   "execution_count": null,
   "metadata": {},
   "outputs": [],
   "source": [
    "top_country_x_product = total_sales_by_country_x_product.head(5)\n",
    "top_country_x_product = list(top_country_x_product['country_x_product'])\n",
    "\n",
    "\n",
    "fig, ax = plt.subplots(figsize=(15, 5))\n",
    "\n",
    "plot_data = df_train[df_train['country_x_product'].isin(top_country_x_product)]\n",
    "cartesian_palette = sns.color_palette('husl', len(top_country_x_product))\n",
    "\n",
    "sns.lineplot(x='date', y='num_sold', hue='country_x_product', data=plot_data, ax=ax, palette=cartesian_palette)\n",
    "ax.set_xlabel('Date')\n",
    "ax.set_ylabel('Number of Sales')\n",
    "ax.set_title('Number of Sales by combination of Country x Product')\n",
    "plt.show()"
   ]
  }
 ],
 "metadata": {
  "kernelspec": {
   "display_name": "Python 3",
   "language": "python",
   "name": "python3"
  },
  "language_info": {
   "codemirror_mode": {
    "name": "ipython",
    "version": 3
   },
   "file_extension": ".py",
   "mimetype": "text/x-python",
   "name": "python",
   "nbconvert_exporter": "python",
   "pygments_lexer": "ipython3",
   "version": "3.10.11"
  },
  "orig_nbformat": 4
 },
 "nbformat": 4,
 "nbformat_minor": 2
}
