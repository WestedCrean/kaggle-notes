{
 "cells": [
  {
   "cell_type": "markdown",
   "metadata": {},
   "source": [
    "# Santa 2023 - initial solution"
   ]
  },
  {
   "cell_type": "markdown",
   "metadata": {},
   "source": [
    "Many thanks to @whats2000 for explaining the problem and A* algorithm. \n",
    "\n",
    "This notebook heavily uses his code from https://www.kaggle.com/code/whats2000/a-star-algorithm-polytope-permutation/notebook, take a look and leave an upvote!"
   ]
  },
  {
   "cell_type": "markdown",
   "metadata": {},
   "source": [
    "## 1. Imports & data loading"
   ]
  },
  {
   "cell_type": "code",
   "execution_count": 68,
   "metadata": {},
   "outputs": [],
   "source": [
    "# essentials\n",
    "import os\n",
    "import pathlib\n",
    "from copy import copy\n",
    "import json\n",
    "from pprint import pprint\n",
    "import heapq\n",
    "import time\n",
    "import datetime\n",
    "\n",
    "import pandas as pd\n",
    "import numpy as np\n",
    "from tqdm import tqdm\n",
    "\n",
    "# visualisation\n",
    "import matplotlib\n",
    "import matplotlib.pyplot as plt\n",
    "import seaborn as sns"
   ]
  },
  {
   "cell_type": "code",
   "execution_count": 69,
   "metadata": {},
   "outputs": [
    {
     "data": {
      "text/html": [
       "<div>\n",
       "<style scoped>\n",
       "    .dataframe tbody tr th:only-of-type {\n",
       "        vertical-align: middle;\n",
       "    }\n",
       "\n",
       "    .dataframe tbody tr th {\n",
       "        vertical-align: top;\n",
       "    }\n",
       "\n",
       "    .dataframe thead th {\n",
       "        text-align: right;\n",
       "    }\n",
       "</style>\n",
       "<table border=\"1\" class=\"dataframe\">\n",
       "  <thead>\n",
       "    <tr style=\"text-align: right;\">\n",
       "      <th></th>\n",
       "      <th>puzzle_type</th>\n",
       "      <th>allowed_moves</th>\n",
       "    </tr>\n",
       "  </thead>\n",
       "  <tbody>\n",
       "    <tr>\n",
       "      <th>0</th>\n",
       "      <td>cube_2/2/2</td>\n",
       "      <td>{'f0': [0, 1, 19, 17, 6, 4, 7, 5, 2, 9, 3, 11,...</td>\n",
       "    </tr>\n",
       "    <tr>\n",
       "      <th>1</th>\n",
       "      <td>cube_3/3/3</td>\n",
       "      <td>{'f0': [0, 1, 2, 3, 4, 5, 44, 41, 38, 15, 12, ...</td>\n",
       "    </tr>\n",
       "    <tr>\n",
       "      <th>2</th>\n",
       "      <td>cube_4/4/4</td>\n",
       "      <td>{'f0': [0, 1, 2, 3, 4, 5, 6, 7, 8, 9, 10, 11, ...</td>\n",
       "    </tr>\n",
       "    <tr>\n",
       "      <th>3</th>\n",
       "      <td>cube_5/5/5</td>\n",
       "      <td>{'f0': [0, 1, 2, 3, 4, 5, 6, 7, 8, 9, 10, 11, ...</td>\n",
       "    </tr>\n",
       "    <tr>\n",
       "      <th>4</th>\n",
       "      <td>cube_6/6/6</td>\n",
       "      <td>{'f0': [0, 1, 2, 3, 4, 5, 6, 7, 8, 9, 10, 11, ...</td>\n",
       "    </tr>\n",
       "  </tbody>\n",
       "</table>\n",
       "</div>"
      ],
      "text/plain": [
       "  puzzle_type                                      allowed_moves\n",
       "0  cube_2/2/2  {'f0': [0, 1, 19, 17, 6, 4, 7, 5, 2, 9, 3, 11,...\n",
       "1  cube_3/3/3  {'f0': [0, 1, 2, 3, 4, 5, 44, 41, 38, 15, 12, ...\n",
       "2  cube_4/4/4  {'f0': [0, 1, 2, 3, 4, 5, 6, 7, 8, 9, 10, 11, ...\n",
       "3  cube_5/5/5  {'f0': [0, 1, 2, 3, 4, 5, 6, 7, 8, 9, 10, 11, ...\n",
       "4  cube_6/6/6  {'f0': [0, 1, 2, 3, 4, 5, 6, 7, 8, 9, 10, 11, ..."
      ]
     },
     "execution_count": 69,
     "metadata": {},
     "output_type": "execute_result"
    }
   ],
   "source": [
    "IN_KAGGLE = False\n",
    "\n",
    "kaggle_folder = \"/kaggle/input/\"\n",
    "local_folder = \"./data/\"\n",
    "puzzle_info_df = pd.read_csv(kaggle_folder if IN_KAGGLE else local_folder + \"santa-2023/puzzle_info.csv\")\n",
    "puzzles_df = pd.read_csv(kaggle_folder if IN_KAGGLE else local_folder + \"santa-2023/puzzles.csv\")\n",
    "sample_submission_df = pd.read_csv(kaggle_folder if IN_KAGGLE else local_folder + \"santa-2023/sample_submission.csv\")\n",
    "\n",
    "\n",
    "puzzle_info_df.head()"
   ]
  },
  {
   "cell_type": "code",
   "execution_count": 70,
   "metadata": {},
   "outputs": [
    {
     "data": {
      "text/html": [
       "<div>\n",
       "<style scoped>\n",
       "    .dataframe tbody tr th:only-of-type {\n",
       "        vertical-align: middle;\n",
       "    }\n",
       "\n",
       "    .dataframe tbody tr th {\n",
       "        vertical-align: top;\n",
       "    }\n",
       "\n",
       "    .dataframe thead th {\n",
       "        text-align: right;\n",
       "    }\n",
       "</style>\n",
       "<table border=\"1\" class=\"dataframe\">\n",
       "  <thead>\n",
       "    <tr style=\"text-align: right;\">\n",
       "      <th></th>\n",
       "      <th>id</th>\n",
       "      <th>puzzle_type</th>\n",
       "      <th>solution_state</th>\n",
       "      <th>initial_state</th>\n",
       "      <th>num_wildcards</th>\n",
       "    </tr>\n",
       "  </thead>\n",
       "  <tbody>\n",
       "    <tr>\n",
       "      <th>0</th>\n",
       "      <td>0</td>\n",
       "      <td>cube_2/2/2</td>\n",
       "      <td>A;A;A;A;B;B;B;B;C;C;C;C;D;D;D;D;E;E;E;E;F;F;F;F</td>\n",
       "      <td>D;E;D;A;E;B;A;B;C;A;C;A;D;C;D;F;F;F;E;E;B;F;B;C</td>\n",
       "      <td>0</td>\n",
       "    </tr>\n",
       "    <tr>\n",
       "      <th>1</th>\n",
       "      <td>1</td>\n",
       "      <td>cube_2/2/2</td>\n",
       "      <td>A;A;A;A;B;B;B;B;C;C;C;C;D;D;D;D;E;E;E;E;F;F;F;F</td>\n",
       "      <td>D;E;C;B;B;E;F;A;F;D;B;F;F;E;B;D;A;A;C;D;C;E;A;C</td>\n",
       "      <td>0</td>\n",
       "    </tr>\n",
       "    <tr>\n",
       "      <th>2</th>\n",
       "      <td>2</td>\n",
       "      <td>cube_2/2/2</td>\n",
       "      <td>A;A;A;A;B;B;B;B;C;C;C;C;D;D;D;D;E;E;E;E;F;F;F;F</td>\n",
       "      <td>E;F;C;C;F;A;D;D;B;B;A;F;E;B;C;A;A;B;D;F;E;E;C;D</td>\n",
       "      <td>0</td>\n",
       "    </tr>\n",
       "    <tr>\n",
       "      <th>3</th>\n",
       "      <td>3</td>\n",
       "      <td>cube_2/2/2</td>\n",
       "      <td>A;A;A;A;B;B;B;B;C;C;C;C;D;D;D;D;E;E;E;E;F;F;F;F</td>\n",
       "      <td>A;C;E;C;F;D;E;D;A;A;F;A;B;D;B;F;E;D;B;F;B;C;C;E</td>\n",
       "      <td>0</td>\n",
       "    </tr>\n",
       "    <tr>\n",
       "      <th>4</th>\n",
       "      <td>4</td>\n",
       "      <td>cube_2/2/2</td>\n",
       "      <td>A;A;A;A;B;B;B;B;C;C;C;C;D;D;D;D;E;E;E;E;F;F;F;F</td>\n",
       "      <td>E;D;E;D;A;E;F;B;A;C;F;D;F;D;C;A;F;B;C;C;B;E;B;A</td>\n",
       "      <td>0</td>\n",
       "    </tr>\n",
       "  </tbody>\n",
       "</table>\n",
       "</div>"
      ],
      "text/plain": [
       "   id puzzle_type                                   solution_state  \\\n",
       "0   0  cube_2/2/2  A;A;A;A;B;B;B;B;C;C;C;C;D;D;D;D;E;E;E;E;F;F;F;F   \n",
       "1   1  cube_2/2/2  A;A;A;A;B;B;B;B;C;C;C;C;D;D;D;D;E;E;E;E;F;F;F;F   \n",
       "2   2  cube_2/2/2  A;A;A;A;B;B;B;B;C;C;C;C;D;D;D;D;E;E;E;E;F;F;F;F   \n",
       "3   3  cube_2/2/2  A;A;A;A;B;B;B;B;C;C;C;C;D;D;D;D;E;E;E;E;F;F;F;F   \n",
       "4   4  cube_2/2/2  A;A;A;A;B;B;B;B;C;C;C;C;D;D;D;D;E;E;E;E;F;F;F;F   \n",
       "\n",
       "                                     initial_state  num_wildcards  \n",
       "0  D;E;D;A;E;B;A;B;C;A;C;A;D;C;D;F;F;F;E;E;B;F;B;C              0  \n",
       "1  D;E;C;B;B;E;F;A;F;D;B;F;F;E;B;D;A;A;C;D;C;E;A;C              0  \n",
       "2  E;F;C;C;F;A;D;D;B;B;A;F;E;B;C;A;A;B;D;F;E;E;C;D              0  \n",
       "3  A;C;E;C;F;D;E;D;A;A;F;A;B;D;B;F;E;D;B;F;B;C;C;E              0  \n",
       "4  E;D;E;D;A;E;F;B;A;C;F;D;F;D;C;A;F;B;C;C;B;E;B;A              0  "
      ]
     },
     "execution_count": 70,
     "metadata": {},
     "output_type": "execute_result"
    }
   ],
   "source": [
    "puzzles_df.head()"
   ]
  },
  {
   "cell_type": "code",
   "execution_count": 87,
   "metadata": {},
   "outputs": [
    {
     "data": {
      "text/html": [
       "<div>\n",
       "<style scoped>\n",
       "    .dataframe tbody tr th:only-of-type {\n",
       "        vertical-align: middle;\n",
       "    }\n",
       "\n",
       "    .dataframe tbody tr th {\n",
       "        vertical-align: top;\n",
       "    }\n",
       "\n",
       "    .dataframe thead th {\n",
       "        text-align: right;\n",
       "    }\n",
       "</style>\n",
       "<table border=\"1\" class=\"dataframe\">\n",
       "  <thead>\n",
       "    <tr style=\"text-align: right;\">\n",
       "      <th></th>\n",
       "      <th>id</th>\n",
       "      <th>puzzle_type</th>\n",
       "      <th>solution_state</th>\n",
       "      <th>initial_state</th>\n",
       "      <th>num_wildcards</th>\n",
       "      <th>general_puzzle_type</th>\n",
       "      <th>parsed_initial_state</th>\n",
       "      <th>parsed_solution_state</th>\n",
       "    </tr>\n",
       "  </thead>\n",
       "  <tbody>\n",
       "    <tr>\n",
       "      <th>281</th>\n",
       "      <td>281</td>\n",
       "      <td>cube_33/33/33</td>\n",
       "      <td>A;A;A;A;A;A;A;A;A;A;A;A;A;A;A;A;A;A;A;A;A;A;A;...</td>\n",
       "      <td>B;F;C;B;E;F;A;F;F;C;B;A;F;A;D;C;C;B;E;E;C;D;B;...</td>\n",
       "      <td>0</td>\n",
       "      <td>cube</td>\n",
       "      <td>[B, F, C, B, E, F, A, F, F, C, B, A, F, A, D, ...</td>\n",
       "      <td>[A, A, A, A, A, A, A, A, A, A, A, A, A, A, A, ...</td>\n",
       "    </tr>\n",
       "    <tr>\n",
       "      <th>282</th>\n",
       "      <td>282</td>\n",
       "      <td>cube_33/33/33</td>\n",
       "      <td>A;B;A;B;A;B;A;B;A;B;A;B;A;B;A;B;A;B;A;B;A;B;A;...</td>\n",
       "      <td>F;B;A;F;A;C;B;B;C;B;B;A;E;F;A;E;E;E;B;E;B;F;E;...</td>\n",
       "      <td>0</td>\n",
       "      <td>cube</td>\n",
       "      <td>[F, B, A, F, A, C, B, B, C, B, B, A, E, F, A, ...</td>\n",
       "      <td>[A, B, A, B, A, B, A, B, A, B, A, B, A, B, A, ...</td>\n",
       "    </tr>\n",
       "    <tr>\n",
       "      <th>283</th>\n",
       "      <td>283</td>\n",
       "      <td>cube_33/33/33</td>\n",
       "      <td>N0;N1;N2;N3;N4;N5;N6;N7;N8;N9;N10;N11;N12;N13;...</td>\n",
       "      <td>N1056;N4357;N3264;N3270;N924;N2183;N1095;N6526...</td>\n",
       "      <td>0</td>\n",
       "      <td>cube</td>\n",
       "      <td>[N1056, N4357, N3264, N3270, N924, N2183, N109...</td>\n",
       "      <td>[N0, N1, N2, N3, N4, N5, N6, N7, N8, N9, N10, ...</td>\n",
       "    </tr>\n",
       "  </tbody>\n",
       "</table>\n",
       "</div>"
      ],
      "text/plain": [
       "      id    puzzle_type                                     solution_state  \\\n",
       "281  281  cube_33/33/33  A;A;A;A;A;A;A;A;A;A;A;A;A;A;A;A;A;A;A;A;A;A;A;...   \n",
       "282  282  cube_33/33/33  A;B;A;B;A;B;A;B;A;B;A;B;A;B;A;B;A;B;A;B;A;B;A;...   \n",
       "283  283  cube_33/33/33  N0;N1;N2;N3;N4;N5;N6;N7;N8;N9;N10;N11;N12;N13;...   \n",
       "\n",
       "                                         initial_state  num_wildcards  \\\n",
       "281  B;F;C;B;E;F;A;F;F;C;B;A;F;A;D;C;C;B;E;E;C;D;B;...              0   \n",
       "282  F;B;A;F;A;C;B;B;C;B;B;A;E;F;A;E;E;E;B;E;B;F;E;...              0   \n",
       "283  N1056;N4357;N3264;N3270;N924;N2183;N1095;N6526...              0   \n",
       "\n",
       "    general_puzzle_type                               parsed_initial_state  \\\n",
       "281                cube  [B, F, C, B, E, F, A, F, F, C, B, A, F, A, D, ...   \n",
       "282                cube  [F, B, A, F, A, C, B, B, C, B, B, A, E, F, A, ...   \n",
       "283                cube  [N1056, N4357, N3264, N3270, N924, N2183, N109...   \n",
       "\n",
       "                                 parsed_solution_state  \n",
       "281  [A, A, A, A, A, A, A, A, A, A, A, A, A, A, A, ...  \n",
       "282  [A, B, A, B, A, B, A, B, A, B, A, B, A, B, A, ...  \n",
       "283  [N0, N1, N2, N3, N4, N5, N6, N7, N8, N9, N10, ...  "
      ]
     },
     "execution_count": 87,
     "metadata": {},
     "output_type": "execute_result"
    }
   ],
   "source": [
    "puzzles_df[ puzzles_df['id'].isin([282, 281, 283]) ]"
   ]
  },
  {
   "cell_type": "code",
   "execution_count": 71,
   "metadata": {},
   "outputs": [
    {
     "data": {
      "text/plain": [
       "puzzle_type\n",
       "cube_3/3/3        120\n",
       "cube_4/4/4         60\n",
       "cube_5/5/5         35\n",
       "cube_2/2/2         30\n",
       "wreath_6/6         20\n",
       "globe_3/4          15\n",
       "wreath_7/7         15\n",
       "cube_6/6/6         12\n",
       "globe_1/8          10\n",
       "wreath_12/12       10\n",
       "globe_3/33          8\n",
       "cube_10/10/10       5\n",
       "cube_9/9/9          5\n",
       "wreath_21/21        5\n",
       "cube_8/8/8          5\n",
       "globe_1/16          5\n",
       "globe_2/6           5\n",
       "cube_7/7/7          5\n",
       "globe_6/4           5\n",
       "globe_6/8           5\n",
       "globe_6/10          5\n",
       "cube_19/19/19       4\n",
       "cube_33/33/33       3\n",
       "wreath_33/33        3\n",
       "globe_8/25          2\n",
       "wreath_100/100      1\n",
       "Name: count, dtype: int64"
      ]
     },
     "execution_count": 71,
     "metadata": {},
     "output_type": "execute_result"
    }
   ],
   "source": [
    "puzzles_df['puzzle_type'].value_counts()"
   ]
  },
  {
   "cell_type": "code",
   "execution_count": 86,
   "metadata": {},
   "outputs": [
    {
     "name": "stdout",
     "output_type": "stream",
     "text": [
      "Total number of puzzles: 398\n"
     ]
    }
   ],
   "source": [
    "print(f\"Total number of puzzles: {len(puzzles_df)}\")"
   ]
  },
  {
   "cell_type": "code",
   "execution_count": 72,
   "metadata": {},
   "outputs": [
    {
     "data": {
      "text/plain": [
       "general_puzzle_type\n",
       "cube      284\n",
       "globe      60\n",
       "wreath     54\n",
       "Name: count, dtype: int64"
      ]
     },
     "execution_count": 72,
     "metadata": {},
     "output_type": "execute_result"
    }
   ],
   "source": [
    "puzzles_df['general_puzzle_type'] = puzzles_df['puzzle_type'].apply(lambda x: x.split('_')[0])\n",
    "puzzles_df['general_puzzle_type'].value_counts()"
   ]
  },
  {
   "cell_type": "markdown",
   "metadata": {},
   "source": [
    "> What are wildcards? "
   ]
  },
  {
   "cell_type": "code",
   "execution_count": 73,
   "metadata": {},
   "outputs": [
    {
     "data": {
      "text/html": [
       "<style type=\"text/css\">\n",
       "#T_f21fa_row0_col0, #T_f21fa_row0_col1, #T_f21fa_row0_col2, #T_f21fa_row0_col3, #T_f21fa_row0_col5, #T_f21fa_row0_col6, #T_f21fa_row0_col7, #T_f21fa_row0_col8, #T_f21fa_row0_col9, #T_f21fa_row0_col10, #T_f21fa_row0_col11, #T_f21fa_row0_col12, #T_f21fa_row0_col13, #T_f21fa_row1_col2, #T_f21fa_row1_col5, #T_f21fa_row1_col6, #T_f21fa_row1_col7, #T_f21fa_row1_col8, #T_f21fa_row1_col9, #T_f21fa_row1_col10, #T_f21fa_row1_col11, #T_f21fa_row1_col12, #T_f21fa_row1_col13, #T_f21fa_row2_col1, #T_f21fa_row2_col2, #T_f21fa_row2_col3, #T_f21fa_row2_col5, #T_f21fa_row2_col6, #T_f21fa_row2_col7, #T_f21fa_row2_col8, #T_f21fa_row2_col9, #T_f21fa_row2_col10, #T_f21fa_row2_col11, #T_f21fa_row2_col12, #T_f21fa_row2_col13, #T_f21fa_row3_col1, #T_f21fa_row3_col2, #T_f21fa_row3_col3, #T_f21fa_row3_col4, #T_f21fa_row3_col5, #T_f21fa_row3_col6, #T_f21fa_row3_col7, #T_f21fa_row3_col8, #T_f21fa_row3_col9, #T_f21fa_row3_col10, #T_f21fa_row3_col11, #T_f21fa_row3_col12, #T_f21fa_row3_col13, #T_f21fa_row4_col1, #T_f21fa_row4_col2, #T_f21fa_row4_col3, #T_f21fa_row4_col4, #T_f21fa_row4_col5, #T_f21fa_row4_col6, #T_f21fa_row4_col7, #T_f21fa_row4_col8, #T_f21fa_row4_col9, #T_f21fa_row4_col10, #T_f21fa_row4_col11, #T_f21fa_row4_col12, #T_f21fa_row5_col1, #T_f21fa_row5_col2, #T_f21fa_row5_col3, #T_f21fa_row5_col4, #T_f21fa_row5_col5, #T_f21fa_row5_col6, #T_f21fa_row5_col7, #T_f21fa_row5_col8, #T_f21fa_row5_col9, #T_f21fa_row5_col10, #T_f21fa_row5_col11, #T_f21fa_row5_col12, #T_f21fa_row5_col13, #T_f21fa_row6_col3, #T_f21fa_row6_col4, #T_f21fa_row6_col5, #T_f21fa_row6_col6, #T_f21fa_row6_col7, #T_f21fa_row6_col8, #T_f21fa_row6_col9, #T_f21fa_row6_col10, #T_f21fa_row6_col11, #T_f21fa_row6_col12, #T_f21fa_row6_col13, #T_f21fa_row7_col1, #T_f21fa_row7_col2, #T_f21fa_row7_col3, #T_f21fa_row7_col4, #T_f21fa_row7_col5, #T_f21fa_row7_col6, #T_f21fa_row7_col7, #T_f21fa_row7_col10, #T_f21fa_row7_col11, #T_f21fa_row7_col12, #T_f21fa_row7_col13, #T_f21fa_row8_col1, #T_f21fa_row8_col2, #T_f21fa_row8_col3, #T_f21fa_row8_col4, #T_f21fa_row8_col5, #T_f21fa_row8_col6, #T_f21fa_row8_col8, #T_f21fa_row8_col9, #T_f21fa_row8_col11, #T_f21fa_row8_col12, #T_f21fa_row8_col13, #T_f21fa_row9_col2, #T_f21fa_row9_col3, #T_f21fa_row9_col4, #T_f21fa_row9_col5, #T_f21fa_row9_col6, #T_f21fa_row9_col7, #T_f21fa_row9_col8, #T_f21fa_row9_col9, #T_f21fa_row9_col10, #T_f21fa_row9_col11, #T_f21fa_row9_col12, #T_f21fa_row9_col13, #T_f21fa_row10_col1, #T_f21fa_row10_col2, #T_f21fa_row10_col3, #T_f21fa_row10_col4, #T_f21fa_row10_col5, #T_f21fa_row10_col6, #T_f21fa_row10_col7, #T_f21fa_row10_col8, #T_f21fa_row10_col9, #T_f21fa_row10_col10, #T_f21fa_row10_col11, #T_f21fa_row10_col13, #T_f21fa_row11_col1, #T_f21fa_row11_col2, #T_f21fa_row11_col3, #T_f21fa_row11_col4, #T_f21fa_row11_col5, #T_f21fa_row11_col7, #T_f21fa_row11_col8, #T_f21fa_row11_col9, #T_f21fa_row11_col10, #T_f21fa_row11_col11, #T_f21fa_row11_col12, #T_f21fa_row11_col13, #T_f21fa_row12_col1, #T_f21fa_row12_col2, #T_f21fa_row12_col3, #T_f21fa_row12_col4, #T_f21fa_row12_col5, #T_f21fa_row12_col6, #T_f21fa_row12_col7, #T_f21fa_row12_col8, #T_f21fa_row12_col9, #T_f21fa_row12_col10, #T_f21fa_row12_col12, #T_f21fa_row12_col13, #T_f21fa_row13_col1, #T_f21fa_row13_col3, #T_f21fa_row13_col4, #T_f21fa_row13_col5, #T_f21fa_row13_col6, #T_f21fa_row13_col7, #T_f21fa_row13_col8, #T_f21fa_row13_col9, #T_f21fa_row13_col10, #T_f21fa_row13_col11, #T_f21fa_row13_col12, #T_f21fa_row13_col13, #T_f21fa_row14_col1, #T_f21fa_row14_col2, #T_f21fa_row14_col3, #T_f21fa_row14_col4, #T_f21fa_row14_col5, #T_f21fa_row14_col6, #T_f21fa_row14_col7, #T_f21fa_row14_col8, #T_f21fa_row14_col9, #T_f21fa_row14_col10, #T_f21fa_row14_col11, #T_f21fa_row14_col12, #T_f21fa_row14_col13, #T_f21fa_row15_col2, #T_f21fa_row15_col3, #T_f21fa_row15_col4, #T_f21fa_row15_col5, #T_f21fa_row15_col6, #T_f21fa_row15_col7, #T_f21fa_row15_col8, #T_f21fa_row15_col9, #T_f21fa_row15_col10, #T_f21fa_row15_col11, #T_f21fa_row15_col12, #T_f21fa_row15_col13, #T_f21fa_row16_col1, #T_f21fa_row16_col2, #T_f21fa_row16_col4, #T_f21fa_row16_col5, #T_f21fa_row16_col6, #T_f21fa_row16_col7, #T_f21fa_row16_col8, #T_f21fa_row16_col9, #T_f21fa_row16_col10, #T_f21fa_row16_col11, #T_f21fa_row16_col12, #T_f21fa_row16_col13, #T_f21fa_row17_col2, #T_f21fa_row17_col3, #T_f21fa_row17_col4, #T_f21fa_row17_col5, #T_f21fa_row17_col6, #T_f21fa_row17_col9, #T_f21fa_row17_col10, #T_f21fa_row17_col11, #T_f21fa_row17_col12, #T_f21fa_row17_col13, #T_f21fa_row18_col2, #T_f21fa_row18_col3, #T_f21fa_row18_col4, #T_f21fa_row18_col5, #T_f21fa_row18_col6, #T_f21fa_row18_col7, #T_f21fa_row18_col8, #T_f21fa_row18_col9, #T_f21fa_row18_col10, #T_f21fa_row18_col11, #T_f21fa_row18_col12, #T_f21fa_row18_col13, #T_f21fa_row19_col3, #T_f21fa_row19_col4, #T_f21fa_row19_col5, #T_f21fa_row19_col6, #T_f21fa_row19_col7, #T_f21fa_row19_col8, #T_f21fa_row19_col9, #T_f21fa_row19_col10, #T_f21fa_row19_col11, #T_f21fa_row19_col12, #T_f21fa_row19_col13, #T_f21fa_row20_col2, #T_f21fa_row20_col3, #T_f21fa_row20_col4, #T_f21fa_row20_col5, #T_f21fa_row20_col6, #T_f21fa_row20_col7, #T_f21fa_row20_col8, #T_f21fa_row20_col9, #T_f21fa_row20_col10, #T_f21fa_row20_col11, #T_f21fa_row20_col12, #T_f21fa_row20_col13, #T_f21fa_row21_col2, #T_f21fa_row21_col3, #T_f21fa_row21_col4, #T_f21fa_row21_col5, #T_f21fa_row21_col6, #T_f21fa_row21_col7, #T_f21fa_row21_col8, #T_f21fa_row21_col9, #T_f21fa_row21_col10, #T_f21fa_row21_col11, #T_f21fa_row21_col12, #T_f21fa_row21_col13, #T_f21fa_row22_col2, #T_f21fa_row22_col4, #T_f21fa_row22_col6, #T_f21fa_row22_col8, #T_f21fa_row22_col9, #T_f21fa_row22_col10, #T_f21fa_row22_col11, #T_f21fa_row22_col12, #T_f21fa_row22_col13, #T_f21fa_row23_col1, #T_f21fa_row23_col2, #T_f21fa_row23_col3, #T_f21fa_row23_col4, #T_f21fa_row23_col5, #T_f21fa_row23_col6, #T_f21fa_row23_col7, #T_f21fa_row23_col8, #T_f21fa_row23_col9, #T_f21fa_row23_col10, #T_f21fa_row23_col11, #T_f21fa_row23_col12, #T_f21fa_row23_col13, #T_f21fa_row24_col6, #T_f21fa_row24_col7, #T_f21fa_row24_col8, #T_f21fa_row24_col9, #T_f21fa_row24_col10, #T_f21fa_row24_col11, #T_f21fa_row24_col12, #T_f21fa_row24_col13, #T_f21fa_row25_col4, #T_f21fa_row25_col5, #T_f21fa_row25_col6, #T_f21fa_row25_col7, #T_f21fa_row25_col8, #T_f21fa_row25_col9, #T_f21fa_row25_col10, #T_f21fa_row25_col11, #T_f21fa_row25_col12, #T_f21fa_row25_col13 {\n",
       "  background-color: #fff7fb;\n",
       "  color: #000000;\n",
       "}\n",
       "#T_f21fa_row0_col4, #T_f21fa_row2_col4 {\n",
       "  background-color: #b4c4df;\n",
       "  color: #000000;\n",
       "}\n",
       "#T_f21fa_row1_col0 {\n",
       "  background-color: #fef6fa;\n",
       "  color: #000000;\n",
       "}\n",
       "#T_f21fa_row1_col1, #T_f21fa_row6_col1, #T_f21fa_row18_col1 {\n",
       "  background-color: #e8e4f0;\n",
       "  color: #000000;\n",
       "}\n",
       "#T_f21fa_row1_col3, #T_f21fa_row16_col3, #T_f21fa_row24_col3 {\n",
       "  background-color: #dbdaeb;\n",
       "  color: #000000;\n",
       "}\n",
       "#T_f21fa_row1_col4 {\n",
       "  background-color: #2685bb;\n",
       "  color: #f1f1f1;\n",
       "}\n",
       "#T_f21fa_row2_col0, #T_f21fa_row3_col0 {\n",
       "  background-color: #fcf4fa;\n",
       "  color: #000000;\n",
       "}\n",
       "#T_f21fa_row4_col0, #T_f21fa_row5_col0, #T_f21fa_row6_col0, #T_f21fa_row7_col0, #T_f21fa_row8_col0, #T_f21fa_row9_col0 {\n",
       "  background-color: #fbf3f9;\n",
       "  color: #000000;\n",
       "}\n",
       "#T_f21fa_row4_col13, #T_f21fa_row7_col8, #T_f21fa_row7_col9, #T_f21fa_row8_col7, #T_f21fa_row8_col10, #T_f21fa_row10_col12, #T_f21fa_row11_col6, #T_f21fa_row12_col11, #T_f21fa_row17_col7, #T_f21fa_row17_col8, #T_f21fa_row22_col5, #T_f21fa_row22_col7, #T_f21fa_row24_col4, #T_f21fa_row24_col5, #T_f21fa_row25_col0, #T_f21fa_row25_col1, #T_f21fa_row25_col2, #T_f21fa_row25_col3 {\n",
       "  background-color: #023858;\n",
       "  color: #f1f1f1;\n",
       "}\n",
       "#T_f21fa_row6_col2, #T_f21fa_row13_col2, #T_f21fa_row19_col2 {\n",
       "  background-color: #eee9f3;\n",
       "  color: #000000;\n",
       "}\n",
       "#T_f21fa_row9_col1, #T_f21fa_row20_col1, #T_f21fa_row24_col1 {\n",
       "  background-color: #c4cbe3;\n",
       "  color: #000000;\n",
       "}\n",
       "#T_f21fa_row10_col0, #T_f21fa_row11_col0, #T_f21fa_row12_col0, #T_f21fa_row13_col0 {\n",
       "  background-color: #f9f2f8;\n",
       "  color: #000000;\n",
       "}\n",
       "#T_f21fa_row14_col0 {\n",
       "  background-color: #f8f1f8;\n",
       "  color: #000000;\n",
       "}\n",
       "#T_f21fa_row15_col0, #T_f21fa_row16_col0, #T_f21fa_row17_col0 {\n",
       "  background-color: #f4eef6;\n",
       "  color: #000000;\n",
       "}\n",
       "#T_f21fa_row15_col1, #T_f21fa_row17_col1, #T_f21fa_row22_col1 {\n",
       "  background-color: #91b5d6;\n",
       "  color: #000000;\n",
       "}\n",
       "#T_f21fa_row18_col0 {\n",
       "  background-color: #f1ebf5;\n",
       "  color: #000000;\n",
       "}\n",
       "#T_f21fa_row19_col0 {\n",
       "  background-color: #f0eaf4;\n",
       "  color: #000000;\n",
       "}\n",
       "#T_f21fa_row19_col1 {\n",
       "  background-color: #509ac6;\n",
       "  color: #f1f1f1;\n",
       "}\n",
       "#T_f21fa_row20_col0 {\n",
       "  background-color: #ebe6f2;\n",
       "  color: #000000;\n",
       "}\n",
       "#T_f21fa_row21_col0 {\n",
       "  background-color: #e7e3f0;\n",
       "  color: #000000;\n",
       "}\n",
       "#T_f21fa_row21_col1 {\n",
       "  background-color: #1379b5;\n",
       "  color: #f1f1f1;\n",
       "}\n",
       "#T_f21fa_row22_col0 {\n",
       "  background-color: #c9cee4;\n",
       "  color: #000000;\n",
       "}\n",
       "#T_f21fa_row22_col3 {\n",
       "  background-color: #9cb9d9;\n",
       "  color: #000000;\n",
       "}\n",
       "#T_f21fa_row23_col0 {\n",
       "  background-color: #bfc9e1;\n",
       "  color: #000000;\n",
       "}\n",
       "#T_f21fa_row24_col0 {\n",
       "  background-color: #71a8ce;\n",
       "  color: #f1f1f1;\n",
       "}\n",
       "#T_f21fa_row24_col2 {\n",
       "  background-color: #d7d6e9;\n",
       "  color: #000000;\n",
       "}\n",
       "</style>\n",
       "<table id=\"T_f21fa\">\n",
       "  <thead>\n",
       "    <tr>\n",
       "      <th class=\"index_name level0\" >num_wildcards</th>\n",
       "      <th id=\"T_f21fa_level0_col0\" class=\"col_heading level0 col0\" >0</th>\n",
       "      <th id=\"T_f21fa_level0_col1\" class=\"col_heading level0 col1\" >2</th>\n",
       "      <th id=\"T_f21fa_level0_col2\" class=\"col_heading level0 col2\" >4</th>\n",
       "      <th id=\"T_f21fa_level0_col3\" class=\"col_heading level0 col3\" >6</th>\n",
       "      <th id=\"T_f21fa_level0_col4\" class=\"col_heading level0 col4\" >8</th>\n",
       "      <th id=\"T_f21fa_level0_col5\" class=\"col_heading level0 col5\" >10</th>\n",
       "      <th id=\"T_f21fa_level0_col6\" class=\"col_heading level0 col6\" >12</th>\n",
       "      <th id=\"T_f21fa_level0_col7\" class=\"col_heading level0 col7\" >16</th>\n",
       "      <th id=\"T_f21fa_level0_col8\" class=\"col_heading level0 col8\" >18</th>\n",
       "      <th id=\"T_f21fa_level0_col9\" class=\"col_heading level0 col9\" >34</th>\n",
       "      <th id=\"T_f21fa_level0_col10\" class=\"col_heading level0 col10\" >38</th>\n",
       "      <th id=\"T_f21fa_level0_col11\" class=\"col_heading level0 col11\" >42</th>\n",
       "      <th id=\"T_f21fa_level0_col12\" class=\"col_heading level0 col12\" >54</th>\n",
       "      <th id=\"T_f21fa_level0_col13\" class=\"col_heading level0 col13\" >176</th>\n",
       "    </tr>\n",
       "    <tr>\n",
       "      <th class=\"index_name level0\" >puzzle_type</th>\n",
       "      <th class=\"blank col0\" >&nbsp;</th>\n",
       "      <th class=\"blank col1\" >&nbsp;</th>\n",
       "      <th class=\"blank col2\" >&nbsp;</th>\n",
       "      <th class=\"blank col3\" >&nbsp;</th>\n",
       "      <th class=\"blank col4\" >&nbsp;</th>\n",
       "      <th class=\"blank col5\" >&nbsp;</th>\n",
       "      <th class=\"blank col6\" >&nbsp;</th>\n",
       "      <th class=\"blank col7\" >&nbsp;</th>\n",
       "      <th class=\"blank col8\" >&nbsp;</th>\n",
       "      <th class=\"blank col9\" >&nbsp;</th>\n",
       "      <th class=\"blank col10\" >&nbsp;</th>\n",
       "      <th class=\"blank col11\" >&nbsp;</th>\n",
       "      <th class=\"blank col12\" >&nbsp;</th>\n",
       "      <th class=\"blank col13\" >&nbsp;</th>\n",
       "    </tr>\n",
       "  </thead>\n",
       "  <tbody>\n",
       "    <tr>\n",
       "      <th id=\"T_f21fa_level0_row0\" class=\"row_heading level0 row0\" >wreath_100/100</th>\n",
       "      <td id=\"T_f21fa_row0_col0\" class=\"data row0 col0\" >0</td>\n",
       "      <td id=\"T_f21fa_row0_col1\" class=\"data row0 col1\" >0</td>\n",
       "      <td id=\"T_f21fa_row0_col2\" class=\"data row0 col2\" >0</td>\n",
       "      <td id=\"T_f21fa_row0_col3\" class=\"data row0 col3\" >0</td>\n",
       "      <td id=\"T_f21fa_row0_col4\" class=\"data row0 col4\" >1</td>\n",
       "      <td id=\"T_f21fa_row0_col5\" class=\"data row0 col5\" >0</td>\n",
       "      <td id=\"T_f21fa_row0_col6\" class=\"data row0 col6\" >0</td>\n",
       "      <td id=\"T_f21fa_row0_col7\" class=\"data row0 col7\" >0</td>\n",
       "      <td id=\"T_f21fa_row0_col8\" class=\"data row0 col8\" >0</td>\n",
       "      <td id=\"T_f21fa_row0_col9\" class=\"data row0 col9\" >0</td>\n",
       "      <td id=\"T_f21fa_row0_col10\" class=\"data row0 col10\" >0</td>\n",
       "      <td id=\"T_f21fa_row0_col11\" class=\"data row0 col11\" >0</td>\n",
       "      <td id=\"T_f21fa_row0_col12\" class=\"data row0 col12\" >0</td>\n",
       "      <td id=\"T_f21fa_row0_col13\" class=\"data row0 col13\" >0</td>\n",
       "    </tr>\n",
       "    <tr>\n",
       "      <th id=\"T_f21fa_level0_row1\" class=\"row_heading level0 row1\" >globe_6/10</th>\n",
       "      <td id=\"T_f21fa_row1_col0\" class=\"data row1 col0\" >1</td>\n",
       "      <td id=\"T_f21fa_row1_col1\" class=\"data row1 col1\" >1</td>\n",
       "      <td id=\"T_f21fa_row1_col2\" class=\"data row1 col2\" >0</td>\n",
       "      <td id=\"T_f21fa_row1_col3\" class=\"data row1 col3\" >1</td>\n",
       "      <td id=\"T_f21fa_row1_col4\" class=\"data row1 col4\" >2</td>\n",
       "      <td id=\"T_f21fa_row1_col5\" class=\"data row1 col5\" >0</td>\n",
       "      <td id=\"T_f21fa_row1_col6\" class=\"data row1 col6\" >0</td>\n",
       "      <td id=\"T_f21fa_row1_col7\" class=\"data row1 col7\" >0</td>\n",
       "      <td id=\"T_f21fa_row1_col8\" class=\"data row1 col8\" >0</td>\n",
       "      <td id=\"T_f21fa_row1_col9\" class=\"data row1 col9\" >0</td>\n",
       "      <td id=\"T_f21fa_row1_col10\" class=\"data row1 col10\" >0</td>\n",
       "      <td id=\"T_f21fa_row1_col11\" class=\"data row1 col11\" >0</td>\n",
       "      <td id=\"T_f21fa_row1_col12\" class=\"data row1 col12\" >0</td>\n",
       "      <td id=\"T_f21fa_row1_col13\" class=\"data row1 col13\" >0</td>\n",
       "    </tr>\n",
       "    <tr>\n",
       "      <th id=\"T_f21fa_level0_row2\" class=\"row_heading level0 row2\" >wreath_33/33</th>\n",
       "      <td id=\"T_f21fa_row2_col0\" class=\"data row2 col0\" >2</td>\n",
       "      <td id=\"T_f21fa_row2_col1\" class=\"data row2 col1\" >0</td>\n",
       "      <td id=\"T_f21fa_row2_col2\" class=\"data row2 col2\" >0</td>\n",
       "      <td id=\"T_f21fa_row2_col3\" class=\"data row2 col3\" >0</td>\n",
       "      <td id=\"T_f21fa_row2_col4\" class=\"data row2 col4\" >1</td>\n",
       "      <td id=\"T_f21fa_row2_col5\" class=\"data row2 col5\" >0</td>\n",
       "      <td id=\"T_f21fa_row2_col6\" class=\"data row2 col6\" >0</td>\n",
       "      <td id=\"T_f21fa_row2_col7\" class=\"data row2 col7\" >0</td>\n",
       "      <td id=\"T_f21fa_row2_col8\" class=\"data row2 col8\" >0</td>\n",
       "      <td id=\"T_f21fa_row2_col9\" class=\"data row2 col9\" >0</td>\n",
       "      <td id=\"T_f21fa_row2_col10\" class=\"data row2 col10\" >0</td>\n",
       "      <td id=\"T_f21fa_row2_col11\" class=\"data row2 col11\" >0</td>\n",
       "      <td id=\"T_f21fa_row2_col12\" class=\"data row2 col12\" >0</td>\n",
       "      <td id=\"T_f21fa_row2_col13\" class=\"data row2 col13\" >0</td>\n",
       "    </tr>\n",
       "    <tr>\n",
       "      <th id=\"T_f21fa_level0_row3\" class=\"row_heading level0 row3\" >globe_8/25</th>\n",
       "      <td id=\"T_f21fa_row3_col0\" class=\"data row3 col0\" >2</td>\n",
       "      <td id=\"T_f21fa_row3_col1\" class=\"data row3 col1\" >0</td>\n",
       "      <td id=\"T_f21fa_row3_col2\" class=\"data row3 col2\" >0</td>\n",
       "      <td id=\"T_f21fa_row3_col3\" class=\"data row3 col3\" >0</td>\n",
       "      <td id=\"T_f21fa_row3_col4\" class=\"data row3 col4\" >0</td>\n",
       "      <td id=\"T_f21fa_row3_col5\" class=\"data row3 col5\" >0</td>\n",
       "      <td id=\"T_f21fa_row3_col6\" class=\"data row3 col6\" >0</td>\n",
       "      <td id=\"T_f21fa_row3_col7\" class=\"data row3 col7\" >0</td>\n",
       "      <td id=\"T_f21fa_row3_col8\" class=\"data row3 col8\" >0</td>\n",
       "      <td id=\"T_f21fa_row3_col9\" class=\"data row3 col9\" >0</td>\n",
       "      <td id=\"T_f21fa_row3_col10\" class=\"data row3 col10\" >0</td>\n",
       "      <td id=\"T_f21fa_row3_col11\" class=\"data row3 col11\" >0</td>\n",
       "      <td id=\"T_f21fa_row3_col12\" class=\"data row3 col12\" >0</td>\n",
       "      <td id=\"T_f21fa_row3_col13\" class=\"data row3 col13\" >0</td>\n",
       "    </tr>\n",
       "    <tr>\n",
       "      <th id=\"T_f21fa_level0_row4\" class=\"row_heading level0 row4\" >cube_19/19/19</th>\n",
       "      <td id=\"T_f21fa_row4_col0\" class=\"data row4 col0\" >3</td>\n",
       "      <td id=\"T_f21fa_row4_col1\" class=\"data row4 col1\" >0</td>\n",
       "      <td id=\"T_f21fa_row4_col2\" class=\"data row4 col2\" >0</td>\n",
       "      <td id=\"T_f21fa_row4_col3\" class=\"data row4 col3\" >0</td>\n",
       "      <td id=\"T_f21fa_row4_col4\" class=\"data row4 col4\" >0</td>\n",
       "      <td id=\"T_f21fa_row4_col5\" class=\"data row4 col5\" >0</td>\n",
       "      <td id=\"T_f21fa_row4_col6\" class=\"data row4 col6\" >0</td>\n",
       "      <td id=\"T_f21fa_row4_col7\" class=\"data row4 col7\" >0</td>\n",
       "      <td id=\"T_f21fa_row4_col8\" class=\"data row4 col8\" >0</td>\n",
       "      <td id=\"T_f21fa_row4_col9\" class=\"data row4 col9\" >0</td>\n",
       "      <td id=\"T_f21fa_row4_col10\" class=\"data row4 col10\" >0</td>\n",
       "      <td id=\"T_f21fa_row4_col11\" class=\"data row4 col11\" >0</td>\n",
       "      <td id=\"T_f21fa_row4_col12\" class=\"data row4 col12\" >0</td>\n",
       "      <td id=\"T_f21fa_row4_col13\" class=\"data row4 col13\" >1</td>\n",
       "    </tr>\n",
       "    <tr>\n",
       "      <th id=\"T_f21fa_level0_row5\" class=\"row_heading level0 row5\" >cube_33/33/33</th>\n",
       "      <td id=\"T_f21fa_row5_col0\" class=\"data row5 col0\" >3</td>\n",
       "      <td id=\"T_f21fa_row5_col1\" class=\"data row5 col1\" >0</td>\n",
       "      <td id=\"T_f21fa_row5_col2\" class=\"data row5 col2\" >0</td>\n",
       "      <td id=\"T_f21fa_row5_col3\" class=\"data row5 col3\" >0</td>\n",
       "      <td id=\"T_f21fa_row5_col4\" class=\"data row5 col4\" >0</td>\n",
       "      <td id=\"T_f21fa_row5_col5\" class=\"data row5 col5\" >0</td>\n",
       "      <td id=\"T_f21fa_row5_col6\" class=\"data row5 col6\" >0</td>\n",
       "      <td id=\"T_f21fa_row5_col7\" class=\"data row5 col7\" >0</td>\n",
       "      <td id=\"T_f21fa_row5_col8\" class=\"data row5 col8\" >0</td>\n",
       "      <td id=\"T_f21fa_row5_col9\" class=\"data row5 col9\" >0</td>\n",
       "      <td id=\"T_f21fa_row5_col10\" class=\"data row5 col10\" >0</td>\n",
       "      <td id=\"T_f21fa_row5_col11\" class=\"data row5 col11\" >0</td>\n",
       "      <td id=\"T_f21fa_row5_col12\" class=\"data row5 col12\" >0</td>\n",
       "      <td id=\"T_f21fa_row5_col13\" class=\"data row5 col13\" >0</td>\n",
       "    </tr>\n",
       "    <tr>\n",
       "      <th id=\"T_f21fa_level0_row6\" class=\"row_heading level0 row6\" >globe_2/6</th>\n",
       "      <td id=\"T_f21fa_row6_col0\" class=\"data row6 col0\" >3</td>\n",
       "      <td id=\"T_f21fa_row6_col1\" class=\"data row6 col1\" >1</td>\n",
       "      <td id=\"T_f21fa_row6_col2\" class=\"data row6 col2\" >1</td>\n",
       "      <td id=\"T_f21fa_row6_col3\" class=\"data row6 col3\" >0</td>\n",
       "      <td id=\"T_f21fa_row6_col4\" class=\"data row6 col4\" >0</td>\n",
       "      <td id=\"T_f21fa_row6_col5\" class=\"data row6 col5\" >0</td>\n",
       "      <td id=\"T_f21fa_row6_col6\" class=\"data row6 col6\" >0</td>\n",
       "      <td id=\"T_f21fa_row6_col7\" class=\"data row6 col7\" >0</td>\n",
       "      <td id=\"T_f21fa_row6_col8\" class=\"data row6 col8\" >0</td>\n",
       "      <td id=\"T_f21fa_row6_col9\" class=\"data row6 col9\" >0</td>\n",
       "      <td id=\"T_f21fa_row6_col10\" class=\"data row6 col10\" >0</td>\n",
       "      <td id=\"T_f21fa_row6_col11\" class=\"data row6 col11\" >0</td>\n",
       "      <td id=\"T_f21fa_row6_col12\" class=\"data row6 col12\" >0</td>\n",
       "      <td id=\"T_f21fa_row6_col13\" class=\"data row6 col13\" >0</td>\n",
       "    </tr>\n",
       "    <tr>\n",
       "      <th id=\"T_f21fa_level0_row7\" class=\"row_heading level0 row7\" >cube_8/8/8</th>\n",
       "      <td id=\"T_f21fa_row7_col0\" class=\"data row7 col0\" >3</td>\n",
       "      <td id=\"T_f21fa_row7_col1\" class=\"data row7 col1\" >0</td>\n",
       "      <td id=\"T_f21fa_row7_col2\" class=\"data row7 col2\" >0</td>\n",
       "      <td id=\"T_f21fa_row7_col3\" class=\"data row7 col3\" >0</td>\n",
       "      <td id=\"T_f21fa_row7_col4\" class=\"data row7 col4\" >0</td>\n",
       "      <td id=\"T_f21fa_row7_col5\" class=\"data row7 col5\" >0</td>\n",
       "      <td id=\"T_f21fa_row7_col6\" class=\"data row7 col6\" >0</td>\n",
       "      <td id=\"T_f21fa_row7_col7\" class=\"data row7 col7\" >0</td>\n",
       "      <td id=\"T_f21fa_row7_col8\" class=\"data row7 col8\" >1</td>\n",
       "      <td id=\"T_f21fa_row7_col9\" class=\"data row7 col9\" >1</td>\n",
       "      <td id=\"T_f21fa_row7_col10\" class=\"data row7 col10\" >0</td>\n",
       "      <td id=\"T_f21fa_row7_col11\" class=\"data row7 col11\" >0</td>\n",
       "      <td id=\"T_f21fa_row7_col12\" class=\"data row7 col12\" >0</td>\n",
       "      <td id=\"T_f21fa_row7_col13\" class=\"data row7 col13\" >0</td>\n",
       "    </tr>\n",
       "    <tr>\n",
       "      <th id=\"T_f21fa_level0_row8\" class=\"row_heading level0 row8\" >cube_9/9/9</th>\n",
       "      <td id=\"T_f21fa_row8_col0\" class=\"data row8 col0\" >3</td>\n",
       "      <td id=\"T_f21fa_row8_col1\" class=\"data row8 col1\" >0</td>\n",
       "      <td id=\"T_f21fa_row8_col2\" class=\"data row8 col2\" >0</td>\n",
       "      <td id=\"T_f21fa_row8_col3\" class=\"data row8 col3\" >0</td>\n",
       "      <td id=\"T_f21fa_row8_col4\" class=\"data row8 col4\" >0</td>\n",
       "      <td id=\"T_f21fa_row8_col5\" class=\"data row8 col5\" >0</td>\n",
       "      <td id=\"T_f21fa_row8_col6\" class=\"data row8 col6\" >0</td>\n",
       "      <td id=\"T_f21fa_row8_col7\" class=\"data row8 col7\" >1</td>\n",
       "      <td id=\"T_f21fa_row8_col8\" class=\"data row8 col8\" >0</td>\n",
       "      <td id=\"T_f21fa_row8_col9\" class=\"data row8 col9\" >0</td>\n",
       "      <td id=\"T_f21fa_row8_col10\" class=\"data row8 col10\" >1</td>\n",
       "      <td id=\"T_f21fa_row8_col11\" class=\"data row8 col11\" >0</td>\n",
       "      <td id=\"T_f21fa_row8_col12\" class=\"data row8 col12\" >0</td>\n",
       "      <td id=\"T_f21fa_row8_col13\" class=\"data row8 col13\" >0</td>\n",
       "    </tr>\n",
       "    <tr>\n",
       "      <th id=\"T_f21fa_level0_row9\" class=\"row_heading level0 row9\" >globe_1/16</th>\n",
       "      <td id=\"T_f21fa_row9_col0\" class=\"data row9 col0\" >3</td>\n",
       "      <td id=\"T_f21fa_row9_col1\" class=\"data row9 col1\" >2</td>\n",
       "      <td id=\"T_f21fa_row9_col2\" class=\"data row9 col2\" >0</td>\n",
       "      <td id=\"T_f21fa_row9_col3\" class=\"data row9 col3\" >0</td>\n",
       "      <td id=\"T_f21fa_row9_col4\" class=\"data row9 col4\" >0</td>\n",
       "      <td id=\"T_f21fa_row9_col5\" class=\"data row9 col5\" >0</td>\n",
       "      <td id=\"T_f21fa_row9_col6\" class=\"data row9 col6\" >0</td>\n",
       "      <td id=\"T_f21fa_row9_col7\" class=\"data row9 col7\" >0</td>\n",
       "      <td id=\"T_f21fa_row9_col8\" class=\"data row9 col8\" >0</td>\n",
       "      <td id=\"T_f21fa_row9_col9\" class=\"data row9 col9\" >0</td>\n",
       "      <td id=\"T_f21fa_row9_col10\" class=\"data row9 col10\" >0</td>\n",
       "      <td id=\"T_f21fa_row9_col11\" class=\"data row9 col11\" >0</td>\n",
       "      <td id=\"T_f21fa_row9_col12\" class=\"data row9 col12\" >0</td>\n",
       "      <td id=\"T_f21fa_row9_col13\" class=\"data row9 col13\" >0</td>\n",
       "    </tr>\n",
       "    <tr>\n",
       "      <th id=\"T_f21fa_level0_row10\" class=\"row_heading level0 row10\" >cube_10/10/10</th>\n",
       "      <td id=\"T_f21fa_row10_col0\" class=\"data row10 col0\" >4</td>\n",
       "      <td id=\"T_f21fa_row10_col1\" class=\"data row10 col1\" >0</td>\n",
       "      <td id=\"T_f21fa_row10_col2\" class=\"data row10 col2\" >0</td>\n",
       "      <td id=\"T_f21fa_row10_col3\" class=\"data row10 col3\" >0</td>\n",
       "      <td id=\"T_f21fa_row10_col4\" class=\"data row10 col4\" >0</td>\n",
       "      <td id=\"T_f21fa_row10_col5\" class=\"data row10 col5\" >0</td>\n",
       "      <td id=\"T_f21fa_row10_col6\" class=\"data row10 col6\" >0</td>\n",
       "      <td id=\"T_f21fa_row10_col7\" class=\"data row10 col7\" >0</td>\n",
       "      <td id=\"T_f21fa_row10_col8\" class=\"data row10 col8\" >0</td>\n",
       "      <td id=\"T_f21fa_row10_col9\" class=\"data row10 col9\" >0</td>\n",
       "      <td id=\"T_f21fa_row10_col10\" class=\"data row10 col10\" >0</td>\n",
       "      <td id=\"T_f21fa_row10_col11\" class=\"data row10 col11\" >0</td>\n",
       "      <td id=\"T_f21fa_row10_col12\" class=\"data row10 col12\" >1</td>\n",
       "      <td id=\"T_f21fa_row10_col13\" class=\"data row10 col13\" >0</td>\n",
       "    </tr>\n",
       "    <tr>\n",
       "      <th id=\"T_f21fa_level0_row11\" class=\"row_heading level0 row11\" >globe_6/8</th>\n",
       "      <td id=\"T_f21fa_row11_col0\" class=\"data row11 col0\" >4</td>\n",
       "      <td id=\"T_f21fa_row11_col1\" class=\"data row11 col1\" >0</td>\n",
       "      <td id=\"T_f21fa_row11_col2\" class=\"data row11 col2\" >0</td>\n",
       "      <td id=\"T_f21fa_row11_col3\" class=\"data row11 col3\" >0</td>\n",
       "      <td id=\"T_f21fa_row11_col4\" class=\"data row11 col4\" >0</td>\n",
       "      <td id=\"T_f21fa_row11_col5\" class=\"data row11 col5\" >0</td>\n",
       "      <td id=\"T_f21fa_row11_col6\" class=\"data row11 col6\" >1</td>\n",
       "      <td id=\"T_f21fa_row11_col7\" class=\"data row11 col7\" >0</td>\n",
       "      <td id=\"T_f21fa_row11_col8\" class=\"data row11 col8\" >0</td>\n",
       "      <td id=\"T_f21fa_row11_col9\" class=\"data row11 col9\" >0</td>\n",
       "      <td id=\"T_f21fa_row11_col10\" class=\"data row11 col10\" >0</td>\n",
       "      <td id=\"T_f21fa_row11_col11\" class=\"data row11 col11\" >0</td>\n",
       "      <td id=\"T_f21fa_row11_col12\" class=\"data row11 col12\" >0</td>\n",
       "      <td id=\"T_f21fa_row11_col13\" class=\"data row11 col13\" >0</td>\n",
       "    </tr>\n",
       "    <tr>\n",
       "      <th id=\"T_f21fa_level0_row12\" class=\"row_heading level0 row12\" >cube_7/7/7</th>\n",
       "      <td id=\"T_f21fa_row12_col0\" class=\"data row12 col0\" >4</td>\n",
       "      <td id=\"T_f21fa_row12_col1\" class=\"data row12 col1\" >0</td>\n",
       "      <td id=\"T_f21fa_row12_col2\" class=\"data row12 col2\" >0</td>\n",
       "      <td id=\"T_f21fa_row12_col3\" class=\"data row12 col3\" >0</td>\n",
       "      <td id=\"T_f21fa_row12_col4\" class=\"data row12 col4\" >0</td>\n",
       "      <td id=\"T_f21fa_row12_col5\" class=\"data row12 col5\" >0</td>\n",
       "      <td id=\"T_f21fa_row12_col6\" class=\"data row12 col6\" >0</td>\n",
       "      <td id=\"T_f21fa_row12_col7\" class=\"data row12 col7\" >0</td>\n",
       "      <td id=\"T_f21fa_row12_col8\" class=\"data row12 col8\" >0</td>\n",
       "      <td id=\"T_f21fa_row12_col9\" class=\"data row12 col9\" >0</td>\n",
       "      <td id=\"T_f21fa_row12_col10\" class=\"data row12 col10\" >0</td>\n",
       "      <td id=\"T_f21fa_row12_col11\" class=\"data row12 col11\" >1</td>\n",
       "      <td id=\"T_f21fa_row12_col12\" class=\"data row12 col12\" >0</td>\n",
       "      <td id=\"T_f21fa_row12_col13\" class=\"data row12 col13\" >0</td>\n",
       "    </tr>\n",
       "    <tr>\n",
       "      <th id=\"T_f21fa_level0_row13\" class=\"row_heading level0 row13\" >globe_6/4</th>\n",
       "      <td id=\"T_f21fa_row13_col0\" class=\"data row13 col0\" >4</td>\n",
       "      <td id=\"T_f21fa_row13_col1\" class=\"data row13 col1\" >0</td>\n",
       "      <td id=\"T_f21fa_row13_col2\" class=\"data row13 col2\" >1</td>\n",
       "      <td id=\"T_f21fa_row13_col3\" class=\"data row13 col3\" >0</td>\n",
       "      <td id=\"T_f21fa_row13_col4\" class=\"data row13 col4\" >0</td>\n",
       "      <td id=\"T_f21fa_row13_col5\" class=\"data row13 col5\" >0</td>\n",
       "      <td id=\"T_f21fa_row13_col6\" class=\"data row13 col6\" >0</td>\n",
       "      <td id=\"T_f21fa_row13_col7\" class=\"data row13 col7\" >0</td>\n",
       "      <td id=\"T_f21fa_row13_col8\" class=\"data row13 col8\" >0</td>\n",
       "      <td id=\"T_f21fa_row13_col9\" class=\"data row13 col9\" >0</td>\n",
       "      <td id=\"T_f21fa_row13_col10\" class=\"data row13 col10\" >0</td>\n",
       "      <td id=\"T_f21fa_row13_col11\" class=\"data row13 col11\" >0</td>\n",
       "      <td id=\"T_f21fa_row13_col12\" class=\"data row13 col12\" >0</td>\n",
       "      <td id=\"T_f21fa_row13_col13\" class=\"data row13 col13\" >0</td>\n",
       "    </tr>\n",
       "    <tr>\n",
       "      <th id=\"T_f21fa_level0_row14\" class=\"row_heading level0 row14\" >wreath_21/21</th>\n",
       "      <td id=\"T_f21fa_row14_col0\" class=\"data row14 col0\" >5</td>\n",
       "      <td id=\"T_f21fa_row14_col1\" class=\"data row14 col1\" >0</td>\n",
       "      <td id=\"T_f21fa_row14_col2\" class=\"data row14 col2\" >0</td>\n",
       "      <td id=\"T_f21fa_row14_col3\" class=\"data row14 col3\" >0</td>\n",
       "      <td id=\"T_f21fa_row14_col4\" class=\"data row14 col4\" >0</td>\n",
       "      <td id=\"T_f21fa_row14_col5\" class=\"data row14 col5\" >0</td>\n",
       "      <td id=\"T_f21fa_row14_col6\" class=\"data row14 col6\" >0</td>\n",
       "      <td id=\"T_f21fa_row14_col7\" class=\"data row14 col7\" >0</td>\n",
       "      <td id=\"T_f21fa_row14_col8\" class=\"data row14 col8\" >0</td>\n",
       "      <td id=\"T_f21fa_row14_col9\" class=\"data row14 col9\" >0</td>\n",
       "      <td id=\"T_f21fa_row14_col10\" class=\"data row14 col10\" >0</td>\n",
       "      <td id=\"T_f21fa_row14_col11\" class=\"data row14 col11\" >0</td>\n",
       "      <td id=\"T_f21fa_row14_col12\" class=\"data row14 col12\" >0</td>\n",
       "      <td id=\"T_f21fa_row14_col13\" class=\"data row14 col13\" >0</td>\n",
       "    </tr>\n",
       "    <tr>\n",
       "      <th id=\"T_f21fa_level0_row15\" class=\"row_heading level0 row15\" >wreath_12/12</th>\n",
       "      <td id=\"T_f21fa_row15_col0\" class=\"data row15 col0\" >7</td>\n",
       "      <td id=\"T_f21fa_row15_col1\" class=\"data row15 col1\" >3</td>\n",
       "      <td id=\"T_f21fa_row15_col2\" class=\"data row15 col2\" >0</td>\n",
       "      <td id=\"T_f21fa_row15_col3\" class=\"data row15 col3\" >0</td>\n",
       "      <td id=\"T_f21fa_row15_col4\" class=\"data row15 col4\" >0</td>\n",
       "      <td id=\"T_f21fa_row15_col5\" class=\"data row15 col5\" >0</td>\n",
       "      <td id=\"T_f21fa_row15_col6\" class=\"data row15 col6\" >0</td>\n",
       "      <td id=\"T_f21fa_row15_col7\" class=\"data row15 col7\" >0</td>\n",
       "      <td id=\"T_f21fa_row15_col8\" class=\"data row15 col8\" >0</td>\n",
       "      <td id=\"T_f21fa_row15_col9\" class=\"data row15 col9\" >0</td>\n",
       "      <td id=\"T_f21fa_row15_col10\" class=\"data row15 col10\" >0</td>\n",
       "      <td id=\"T_f21fa_row15_col11\" class=\"data row15 col11\" >0</td>\n",
       "      <td id=\"T_f21fa_row15_col12\" class=\"data row15 col12\" >0</td>\n",
       "      <td id=\"T_f21fa_row15_col13\" class=\"data row15 col13\" >0</td>\n",
       "    </tr>\n",
       "    <tr>\n",
       "      <th id=\"T_f21fa_level0_row16\" class=\"row_heading level0 row16\" >globe_3/33</th>\n",
       "      <td id=\"T_f21fa_row16_col0\" class=\"data row16 col0\" >7</td>\n",
       "      <td id=\"T_f21fa_row16_col1\" class=\"data row16 col1\" >0</td>\n",
       "      <td id=\"T_f21fa_row16_col2\" class=\"data row16 col2\" >0</td>\n",
       "      <td id=\"T_f21fa_row16_col3\" class=\"data row16 col3\" >1</td>\n",
       "      <td id=\"T_f21fa_row16_col4\" class=\"data row16 col4\" >0</td>\n",
       "      <td id=\"T_f21fa_row16_col5\" class=\"data row16 col5\" >0</td>\n",
       "      <td id=\"T_f21fa_row16_col6\" class=\"data row16 col6\" >0</td>\n",
       "      <td id=\"T_f21fa_row16_col7\" class=\"data row16 col7\" >0</td>\n",
       "      <td id=\"T_f21fa_row16_col8\" class=\"data row16 col8\" >0</td>\n",
       "      <td id=\"T_f21fa_row16_col9\" class=\"data row16 col9\" >0</td>\n",
       "      <td id=\"T_f21fa_row16_col10\" class=\"data row16 col10\" >0</td>\n",
       "      <td id=\"T_f21fa_row16_col11\" class=\"data row16 col11\" >0</td>\n",
       "      <td id=\"T_f21fa_row16_col12\" class=\"data row16 col12\" >0</td>\n",
       "      <td id=\"T_f21fa_row16_col13\" class=\"data row16 col13\" >0</td>\n",
       "    </tr>\n",
       "    <tr>\n",
       "      <th id=\"T_f21fa_level0_row17\" class=\"row_heading level0 row17\" >cube_6/6/6</th>\n",
       "      <td id=\"T_f21fa_row17_col0\" class=\"data row17 col0\" >7</td>\n",
       "      <td id=\"T_f21fa_row17_col1\" class=\"data row17 col1\" >3</td>\n",
       "      <td id=\"T_f21fa_row17_col2\" class=\"data row17 col2\" >0</td>\n",
       "      <td id=\"T_f21fa_row17_col3\" class=\"data row17 col3\" >0</td>\n",
       "      <td id=\"T_f21fa_row17_col4\" class=\"data row17 col4\" >0</td>\n",
       "      <td id=\"T_f21fa_row17_col5\" class=\"data row17 col5\" >0</td>\n",
       "      <td id=\"T_f21fa_row17_col6\" class=\"data row17 col6\" >0</td>\n",
       "      <td id=\"T_f21fa_row17_col7\" class=\"data row17 col7\" >1</td>\n",
       "      <td id=\"T_f21fa_row17_col8\" class=\"data row17 col8\" >1</td>\n",
       "      <td id=\"T_f21fa_row17_col9\" class=\"data row17 col9\" >0</td>\n",
       "      <td id=\"T_f21fa_row17_col10\" class=\"data row17 col10\" >0</td>\n",
       "      <td id=\"T_f21fa_row17_col11\" class=\"data row17 col11\" >0</td>\n",
       "      <td id=\"T_f21fa_row17_col12\" class=\"data row17 col12\" >0</td>\n",
       "      <td id=\"T_f21fa_row17_col13\" class=\"data row17 col13\" >0</td>\n",
       "    </tr>\n",
       "    <tr>\n",
       "      <th id=\"T_f21fa_level0_row18\" class=\"row_heading level0 row18\" >globe_1/8</th>\n",
       "      <td id=\"T_f21fa_row18_col0\" class=\"data row18 col0\" >9</td>\n",
       "      <td id=\"T_f21fa_row18_col1\" class=\"data row18 col1\" >1</td>\n",
       "      <td id=\"T_f21fa_row18_col2\" class=\"data row18 col2\" >0</td>\n",
       "      <td id=\"T_f21fa_row18_col3\" class=\"data row18 col3\" >0</td>\n",
       "      <td id=\"T_f21fa_row18_col4\" class=\"data row18 col4\" >0</td>\n",
       "      <td id=\"T_f21fa_row18_col5\" class=\"data row18 col5\" >0</td>\n",
       "      <td id=\"T_f21fa_row18_col6\" class=\"data row18 col6\" >0</td>\n",
       "      <td id=\"T_f21fa_row18_col7\" class=\"data row18 col7\" >0</td>\n",
       "      <td id=\"T_f21fa_row18_col8\" class=\"data row18 col8\" >0</td>\n",
       "      <td id=\"T_f21fa_row18_col9\" class=\"data row18 col9\" >0</td>\n",
       "      <td id=\"T_f21fa_row18_col10\" class=\"data row18 col10\" >0</td>\n",
       "      <td id=\"T_f21fa_row18_col11\" class=\"data row18 col11\" >0</td>\n",
       "      <td id=\"T_f21fa_row18_col12\" class=\"data row18 col12\" >0</td>\n",
       "      <td id=\"T_f21fa_row18_col13\" class=\"data row18 col13\" >0</td>\n",
       "    </tr>\n",
       "    <tr>\n",
       "      <th id=\"T_f21fa_level0_row19\" class=\"row_heading level0 row19\" >globe_3/4</th>\n",
       "      <td id=\"T_f21fa_row19_col0\" class=\"data row19 col0\" >10</td>\n",
       "      <td id=\"T_f21fa_row19_col1\" class=\"data row19 col1\" >4</td>\n",
       "      <td id=\"T_f21fa_row19_col2\" class=\"data row19 col2\" >1</td>\n",
       "      <td id=\"T_f21fa_row19_col3\" class=\"data row19 col3\" >0</td>\n",
       "      <td id=\"T_f21fa_row19_col4\" class=\"data row19 col4\" >0</td>\n",
       "      <td id=\"T_f21fa_row19_col5\" class=\"data row19 col5\" >0</td>\n",
       "      <td id=\"T_f21fa_row19_col6\" class=\"data row19 col6\" >0</td>\n",
       "      <td id=\"T_f21fa_row19_col7\" class=\"data row19 col7\" >0</td>\n",
       "      <td id=\"T_f21fa_row19_col8\" class=\"data row19 col8\" >0</td>\n",
       "      <td id=\"T_f21fa_row19_col9\" class=\"data row19 col9\" >0</td>\n",
       "      <td id=\"T_f21fa_row19_col10\" class=\"data row19 col10\" >0</td>\n",
       "      <td id=\"T_f21fa_row19_col11\" class=\"data row19 col11\" >0</td>\n",
       "      <td id=\"T_f21fa_row19_col12\" class=\"data row19 col12\" >0</td>\n",
       "      <td id=\"T_f21fa_row19_col13\" class=\"data row19 col13\" >0</td>\n",
       "    </tr>\n",
       "    <tr>\n",
       "      <th id=\"T_f21fa_level0_row20\" class=\"row_heading level0 row20\" >wreath_7/7</th>\n",
       "      <td id=\"T_f21fa_row20_col0\" class=\"data row20 col0\" >13</td>\n",
       "      <td id=\"T_f21fa_row20_col1\" class=\"data row20 col1\" >2</td>\n",
       "      <td id=\"T_f21fa_row20_col2\" class=\"data row20 col2\" >0</td>\n",
       "      <td id=\"T_f21fa_row20_col3\" class=\"data row20 col3\" >0</td>\n",
       "      <td id=\"T_f21fa_row20_col4\" class=\"data row20 col4\" >0</td>\n",
       "      <td id=\"T_f21fa_row20_col5\" class=\"data row20 col5\" >0</td>\n",
       "      <td id=\"T_f21fa_row20_col6\" class=\"data row20 col6\" >0</td>\n",
       "      <td id=\"T_f21fa_row20_col7\" class=\"data row20 col7\" >0</td>\n",
       "      <td id=\"T_f21fa_row20_col8\" class=\"data row20 col8\" >0</td>\n",
       "      <td id=\"T_f21fa_row20_col9\" class=\"data row20 col9\" >0</td>\n",
       "      <td id=\"T_f21fa_row20_col10\" class=\"data row20 col10\" >0</td>\n",
       "      <td id=\"T_f21fa_row20_col11\" class=\"data row20 col11\" >0</td>\n",
       "      <td id=\"T_f21fa_row20_col12\" class=\"data row20 col12\" >0</td>\n",
       "      <td id=\"T_f21fa_row20_col13\" class=\"data row20 col13\" >0</td>\n",
       "    </tr>\n",
       "    <tr>\n",
       "      <th id=\"T_f21fa_level0_row21\" class=\"row_heading level0 row21\" >wreath_6/6</th>\n",
       "      <td id=\"T_f21fa_row21_col0\" class=\"data row21 col0\" >15</td>\n",
       "      <td id=\"T_f21fa_row21_col1\" class=\"data row21 col1\" >5</td>\n",
       "      <td id=\"T_f21fa_row21_col2\" class=\"data row21 col2\" >0</td>\n",
       "      <td id=\"T_f21fa_row21_col3\" class=\"data row21 col3\" >0</td>\n",
       "      <td id=\"T_f21fa_row21_col4\" class=\"data row21 col4\" >0</td>\n",
       "      <td id=\"T_f21fa_row21_col5\" class=\"data row21 col5\" >0</td>\n",
       "      <td id=\"T_f21fa_row21_col6\" class=\"data row21 col6\" >0</td>\n",
       "      <td id=\"T_f21fa_row21_col7\" class=\"data row21 col7\" >0</td>\n",
       "      <td id=\"T_f21fa_row21_col8\" class=\"data row21 col8\" >0</td>\n",
       "      <td id=\"T_f21fa_row21_col9\" class=\"data row21 col9\" >0</td>\n",
       "      <td id=\"T_f21fa_row21_col10\" class=\"data row21 col10\" >0</td>\n",
       "      <td id=\"T_f21fa_row21_col11\" class=\"data row21 col11\" >0</td>\n",
       "      <td id=\"T_f21fa_row21_col12\" class=\"data row21 col12\" >0</td>\n",
       "      <td id=\"T_f21fa_row21_col13\" class=\"data row21 col13\" >0</td>\n",
       "    </tr>\n",
       "    <tr>\n",
       "      <th id=\"T_f21fa_level0_row22\" class=\"row_heading level0 row22\" >cube_5/5/5</th>\n",
       "      <td id=\"T_f21fa_row22_col0\" class=\"data row22 col0\" >27</td>\n",
       "      <td id=\"T_f21fa_row22_col1\" class=\"data row22 col1\" >3</td>\n",
       "      <td id=\"T_f21fa_row22_col2\" class=\"data row22 col2\" >0</td>\n",
       "      <td id=\"T_f21fa_row22_col3\" class=\"data row22 col3\" >2</td>\n",
       "      <td id=\"T_f21fa_row22_col4\" class=\"data row22 col4\" >0</td>\n",
       "      <td id=\"T_f21fa_row22_col5\" class=\"data row22 col5\" >2</td>\n",
       "      <td id=\"T_f21fa_row22_col6\" class=\"data row22 col6\" >0</td>\n",
       "      <td id=\"T_f21fa_row22_col7\" class=\"data row22 col7\" >1</td>\n",
       "      <td id=\"T_f21fa_row22_col8\" class=\"data row22 col8\" >0</td>\n",
       "      <td id=\"T_f21fa_row22_col9\" class=\"data row22 col9\" >0</td>\n",
       "      <td id=\"T_f21fa_row22_col10\" class=\"data row22 col10\" >0</td>\n",
       "      <td id=\"T_f21fa_row22_col11\" class=\"data row22 col11\" >0</td>\n",
       "      <td id=\"T_f21fa_row22_col12\" class=\"data row22 col12\" >0</td>\n",
       "      <td id=\"T_f21fa_row22_col13\" class=\"data row22 col13\" >0</td>\n",
       "    </tr>\n",
       "    <tr>\n",
       "      <th id=\"T_f21fa_level0_row23\" class=\"row_heading level0 row23\" >cube_2/2/2</th>\n",
       "      <td id=\"T_f21fa_row23_col0\" class=\"data row23 col0\" >30</td>\n",
       "      <td id=\"T_f21fa_row23_col1\" class=\"data row23 col1\" >0</td>\n",
       "      <td id=\"T_f21fa_row23_col2\" class=\"data row23 col2\" >0</td>\n",
       "      <td id=\"T_f21fa_row23_col3\" class=\"data row23 col3\" >0</td>\n",
       "      <td id=\"T_f21fa_row23_col4\" class=\"data row23 col4\" >0</td>\n",
       "      <td id=\"T_f21fa_row23_col5\" class=\"data row23 col5\" >0</td>\n",
       "      <td id=\"T_f21fa_row23_col6\" class=\"data row23 col6\" >0</td>\n",
       "      <td id=\"T_f21fa_row23_col7\" class=\"data row23 col7\" >0</td>\n",
       "      <td id=\"T_f21fa_row23_col8\" class=\"data row23 col8\" >0</td>\n",
       "      <td id=\"T_f21fa_row23_col9\" class=\"data row23 col9\" >0</td>\n",
       "      <td id=\"T_f21fa_row23_col10\" class=\"data row23 col10\" >0</td>\n",
       "      <td id=\"T_f21fa_row23_col11\" class=\"data row23 col11\" >0</td>\n",
       "      <td id=\"T_f21fa_row23_col12\" class=\"data row23 col12\" >0</td>\n",
       "      <td id=\"T_f21fa_row23_col13\" class=\"data row23 col13\" >0</td>\n",
       "    </tr>\n",
       "    <tr>\n",
       "      <th id=\"T_f21fa_level0_row24\" class=\"row_heading level0 row24\" >cube_4/4/4</th>\n",
       "      <td id=\"T_f21fa_row24_col0\" class=\"data row24 col0\" >50</td>\n",
       "      <td id=\"T_f21fa_row24_col1\" class=\"data row24 col1\" >2</td>\n",
       "      <td id=\"T_f21fa_row24_col2\" class=\"data row24 col2\" >2</td>\n",
       "      <td id=\"T_f21fa_row24_col3\" class=\"data row24 col3\" >1</td>\n",
       "      <td id=\"T_f21fa_row24_col4\" class=\"data row24 col4\" >3</td>\n",
       "      <td id=\"T_f21fa_row24_col5\" class=\"data row24 col5\" >2</td>\n",
       "      <td id=\"T_f21fa_row24_col6\" class=\"data row24 col6\" >0</td>\n",
       "      <td id=\"T_f21fa_row24_col7\" class=\"data row24 col7\" >0</td>\n",
       "      <td id=\"T_f21fa_row24_col8\" class=\"data row24 col8\" >0</td>\n",
       "      <td id=\"T_f21fa_row24_col9\" class=\"data row24 col9\" >0</td>\n",
       "      <td id=\"T_f21fa_row24_col10\" class=\"data row24 col10\" >0</td>\n",
       "      <td id=\"T_f21fa_row24_col11\" class=\"data row24 col11\" >0</td>\n",
       "      <td id=\"T_f21fa_row24_col12\" class=\"data row24 col12\" >0</td>\n",
       "      <td id=\"T_f21fa_row24_col13\" class=\"data row24 col13\" >0</td>\n",
       "    </tr>\n",
       "    <tr>\n",
       "      <th id=\"T_f21fa_level0_row25\" class=\"row_heading level0 row25\" >cube_3/3/3</th>\n",
       "      <td id=\"T_f21fa_row25_col0\" class=\"data row25 col0\" >99</td>\n",
       "      <td id=\"T_f21fa_row25_col1\" class=\"data row25 col1\" >7</td>\n",
       "      <td id=\"T_f21fa_row25_col2\" class=\"data row25 col2\" >9</td>\n",
       "      <td id=\"T_f21fa_row25_col3\" class=\"data row25 col3\" >5</td>\n",
       "      <td id=\"T_f21fa_row25_col4\" class=\"data row25 col4\" >0</td>\n",
       "      <td id=\"T_f21fa_row25_col5\" class=\"data row25 col5\" >0</td>\n",
       "      <td id=\"T_f21fa_row25_col6\" class=\"data row25 col6\" >0</td>\n",
       "      <td id=\"T_f21fa_row25_col7\" class=\"data row25 col7\" >0</td>\n",
       "      <td id=\"T_f21fa_row25_col8\" class=\"data row25 col8\" >0</td>\n",
       "      <td id=\"T_f21fa_row25_col9\" class=\"data row25 col9\" >0</td>\n",
       "      <td id=\"T_f21fa_row25_col10\" class=\"data row25 col10\" >0</td>\n",
       "      <td id=\"T_f21fa_row25_col11\" class=\"data row25 col11\" >0</td>\n",
       "      <td id=\"T_f21fa_row25_col12\" class=\"data row25 col12\" >0</td>\n",
       "      <td id=\"T_f21fa_row25_col13\" class=\"data row25 col13\" >0</td>\n",
       "    </tr>\n",
       "  </tbody>\n",
       "</table>\n"
      ],
      "text/plain": [
       "<pandas.io.formats.style.Styler at 0x7f76c578dab0>"
      ]
     },
     "execution_count": 73,
     "metadata": {},
     "output_type": "execute_result"
    }
   ],
   "source": [
    "puzzles_df.groupby(['puzzle_type'])['num_wildcards'].value_counts() \\\n",
    "    .unstack().fillna(0).astype('int').sort_values(0) \\\n",
    "    .style.background_gradient()"
   ]
  },
  {
   "cell_type": "code",
   "execution_count": 74,
   "metadata": {},
   "outputs": [
    {
     "data": {
      "text/html": [
       "<div>\n",
       "<style scoped>\n",
       "    .dataframe tbody tr th:only-of-type {\n",
       "        vertical-align: middle;\n",
       "    }\n",
       "\n",
       "    .dataframe tbody tr th {\n",
       "        vertical-align: top;\n",
       "    }\n",
       "\n",
       "    .dataframe thead th {\n",
       "        text-align: right;\n",
       "    }\n",
       "</style>\n",
       "<table border=\"1\" class=\"dataframe\">\n",
       "  <thead>\n",
       "    <tr style=\"text-align: right;\">\n",
       "      <th></th>\n",
       "      <th>id</th>\n",
       "      <th>moves</th>\n",
       "    </tr>\n",
       "  </thead>\n",
       "  <tbody>\n",
       "    <tr>\n",
       "      <th>0</th>\n",
       "      <td>0</td>\n",
       "      <td>r1.-f1</td>\n",
       "    </tr>\n",
       "    <tr>\n",
       "      <th>1</th>\n",
       "      <td>1</td>\n",
       "      <td>f1.d0.-r0.-f1.-d0.-f1.d0.-r0.f0.-f1.-r0.f1.-d1...</td>\n",
       "    </tr>\n",
       "    <tr>\n",
       "      <th>2</th>\n",
       "      <td>2</td>\n",
       "      <td>f1.d0.-d1.r0.-d1.-f0.f1.-r0.-f0.-r1.-f0.r0.-d0...</td>\n",
       "    </tr>\n",
       "    <tr>\n",
       "      <th>3</th>\n",
       "      <td>3</td>\n",
       "      <td>-f0.-r0.-f0.-d0.-f0.f1.r0.-d1.-r0.-r1.-r0.-f1....</td>\n",
       "    </tr>\n",
       "    <tr>\n",
       "      <th>4</th>\n",
       "      <td>4</td>\n",
       "      <td>d1.-f1.d1.r1.-f0.d1.-d0.-r1.d1.d1.-f1.d1.-d0.-...</td>\n",
       "    </tr>\n",
       "  </tbody>\n",
       "</table>\n",
       "</div>"
      ],
      "text/plain": [
       "   id                                              moves\n",
       "0   0                                             r1.-f1\n",
       "1   1  f1.d0.-r0.-f1.-d0.-f1.d0.-r0.f0.-f1.-r0.f1.-d1...\n",
       "2   2  f1.d0.-d1.r0.-d1.-f0.f1.-r0.-f0.-r1.-f0.r0.-d0...\n",
       "3   3  -f0.-r0.-f0.-d0.-f0.f1.r0.-d1.-r0.-r1.-r0.-f1....\n",
       "4   4  d1.-f1.d1.r1.-f0.d1.-d0.-r1.d1.d1.-f1.d1.-d0.-..."
      ]
     },
     "execution_count": 74,
     "metadata": {},
     "output_type": "execute_result"
    }
   ],
   "source": [
    "sample_submission_df.head()"
   ]
  },
  {
   "cell_type": "markdown",
   "metadata": {},
   "source": [
    "## 2. Parse puzzle status"
   ]
  },
  {
   "cell_type": "code",
   "execution_count": 75,
   "metadata": {},
   "outputs": [
    {
     "data": {
      "text/html": [
       "<div>\n",
       "<style scoped>\n",
       "    .dataframe tbody tr th:only-of-type {\n",
       "        vertical-align: middle;\n",
       "    }\n",
       "\n",
       "    .dataframe tbody tr th {\n",
       "        vertical-align: top;\n",
       "    }\n",
       "\n",
       "    .dataframe thead th {\n",
       "        text-align: right;\n",
       "    }\n",
       "</style>\n",
       "<table border=\"1\" class=\"dataframe\">\n",
       "  <thead>\n",
       "    <tr style=\"text-align: right;\">\n",
       "      <th></th>\n",
       "      <th>id</th>\n",
       "      <th>puzzle_type</th>\n",
       "      <th>parsed_initial_state</th>\n",
       "      <th>parsed_solution_state</th>\n",
       "    </tr>\n",
       "  </thead>\n",
       "  <tbody>\n",
       "    <tr>\n",
       "      <th>0</th>\n",
       "      <td>0</td>\n",
       "      <td>cube_2/2/2</td>\n",
       "      <td>[D, E, D, A, E, B, A, B, C, A, C, A, D, C, D, ...</td>\n",
       "      <td>[A, A, A, A, B, B, B, B, C, C, C, C, D, D, D, ...</td>\n",
       "    </tr>\n",
       "    <tr>\n",
       "      <th>1</th>\n",
       "      <td>1</td>\n",
       "      <td>cube_2/2/2</td>\n",
       "      <td>[D, E, C, B, B, E, F, A, F, D, B, F, F, E, B, ...</td>\n",
       "      <td>[A, A, A, A, B, B, B, B, C, C, C, C, D, D, D, ...</td>\n",
       "    </tr>\n",
       "    <tr>\n",
       "      <th>2</th>\n",
       "      <td>2</td>\n",
       "      <td>cube_2/2/2</td>\n",
       "      <td>[E, F, C, C, F, A, D, D, B, B, A, F, E, B, C, ...</td>\n",
       "      <td>[A, A, A, A, B, B, B, B, C, C, C, C, D, D, D, ...</td>\n",
       "    </tr>\n",
       "    <tr>\n",
       "      <th>3</th>\n",
       "      <td>3</td>\n",
       "      <td>cube_2/2/2</td>\n",
       "      <td>[A, C, E, C, F, D, E, D, A, A, F, A, B, D, B, ...</td>\n",
       "      <td>[A, A, A, A, B, B, B, B, C, C, C, C, D, D, D, ...</td>\n",
       "    </tr>\n",
       "    <tr>\n",
       "      <th>4</th>\n",
       "      <td>4</td>\n",
       "      <td>cube_2/2/2</td>\n",
       "      <td>[E, D, E, D, A, E, F, B, A, C, F, D, F, D, C, ...</td>\n",
       "      <td>[A, A, A, A, B, B, B, B, C, C, C, C, D, D, D, ...</td>\n",
       "    </tr>\n",
       "  </tbody>\n",
       "</table>\n",
       "</div>"
      ],
      "text/plain": [
       "   id puzzle_type                               parsed_initial_state  \\\n",
       "0   0  cube_2/2/2  [D, E, D, A, E, B, A, B, C, A, C, A, D, C, D, ...   \n",
       "1   1  cube_2/2/2  [D, E, C, B, B, E, F, A, F, D, B, F, F, E, B, ...   \n",
       "2   2  cube_2/2/2  [E, F, C, C, F, A, D, D, B, B, A, F, E, B, C, ...   \n",
       "3   3  cube_2/2/2  [A, C, E, C, F, D, E, D, A, A, F, A, B, D, B, ...   \n",
       "4   4  cube_2/2/2  [E, D, E, D, A, E, F, B, A, C, F, D, F, D, C, ...   \n",
       "\n",
       "                               parsed_solution_state  \n",
       "0  [A, A, A, A, B, B, B, B, C, C, C, C, D, D, D, ...  \n",
       "1  [A, A, A, A, B, B, B, B, C, C, C, C, D, D, D, ...  \n",
       "2  [A, A, A, A, B, B, B, B, C, C, C, C, D, D, D, ...  \n",
       "3  [A, A, A, A, B, B, B, B, C, C, C, C, D, D, D, ...  \n",
       "4  [A, A, A, A, B, B, B, B, C, C, C, C, D, D, D, ...  "
      ]
     },
     "execution_count": 75,
     "metadata": {},
     "output_type": "execute_result"
    }
   ],
   "source": [
    "# Parsing the initial_state and solution_state columns\n",
    "# Converting the semicolon-separated string values into lists of colors\n",
    "puzzles_df['parsed_initial_state'] = puzzles_df['initial_state'].apply(lambda x: x.split(';'))\n",
    "puzzles_df['parsed_solution_state'] = puzzles_df['solution_state'].apply(lambda x: x.split(';'))\n",
    "\n",
    "# Displaying the modified dataframe with parsed states\n",
    "puzzles_df[['id', 'puzzle_type', 'parsed_initial_state', 'parsed_solution_state']].head()"
   ]
  },
  {
   "cell_type": "markdown",
   "metadata": {},
   "source": [
    "## 3. Parse allowed_moves"
   ]
  },
  {
   "cell_type": "code",
   "execution_count": 76,
   "metadata": {},
   "outputs": [
    {
     "data": {
      "text/plain": [
       "'cube_2/2/2'"
      ]
     },
     "execution_count": 76,
     "metadata": {},
     "output_type": "execute_result"
    }
   ],
   "source": [
    "# Converting the string representation of allowed_moves to dictionary\n",
    "puzzle_info_df['allowed_moves'] = puzzle_info_df['allowed_moves'].apply(lambda x: json.loads(x.replace(\"'\", '\"')))\n",
    "\n",
    "# Selecting an example puzzle type and displaying its allowed moves\n",
    "example_puzzle_type = puzzle_info_df['puzzle_type'].iloc[0]\n",
    "example_allowed_moves = puzzle_info_df[puzzle_info_df['puzzle_type'] == example_puzzle_type]['allowed_moves'].iloc[0]\n",
    "\n",
    "example_puzzle_type"
   ]
  },
  {
   "cell_type": "code",
   "execution_count": 77,
   "metadata": {},
   "outputs": [
    {
     "data": {
      "text/html": [
       "<div>\n",
       "<style scoped>\n",
       "    .dataframe tbody tr th:only-of-type {\n",
       "        vertical-align: middle;\n",
       "    }\n",
       "\n",
       "    .dataframe tbody tr th {\n",
       "        vertical-align: top;\n",
       "    }\n",
       "\n",
       "    .dataframe thead th {\n",
       "        text-align: right;\n",
       "    }\n",
       "</style>\n",
       "<table border=\"1\" class=\"dataframe\">\n",
       "  <thead>\n",
       "    <tr style=\"text-align: right;\">\n",
       "      <th></th>\n",
       "      <th>f0</th>\n",
       "      <th>f1</th>\n",
       "      <th>r0</th>\n",
       "      <th>r1</th>\n",
       "      <th>d0</th>\n",
       "      <th>d1</th>\n",
       "    </tr>\n",
       "  </thead>\n",
       "  <tbody>\n",
       "    <tr>\n",
       "      <th>0</th>\n",
       "      <td>0</td>\n",
       "      <td>18</td>\n",
       "      <td>0</td>\n",
       "      <td>4</td>\n",
       "      <td>0</td>\n",
       "      <td>1</td>\n",
       "    </tr>\n",
       "    <tr>\n",
       "      <th>1</th>\n",
       "      <td>1</td>\n",
       "      <td>16</td>\n",
       "      <td>5</td>\n",
       "      <td>1</td>\n",
       "      <td>1</td>\n",
       "      <td>3</td>\n",
       "    </tr>\n",
       "    <tr>\n",
       "      <th>2</th>\n",
       "      <td>19</td>\n",
       "      <td>2</td>\n",
       "      <td>2</td>\n",
       "      <td>6</td>\n",
       "      <td>2</td>\n",
       "      <td>0</td>\n",
       "    </tr>\n",
       "    <tr>\n",
       "      <th>3</th>\n",
       "      <td>17</td>\n",
       "      <td>3</td>\n",
       "      <td>7</td>\n",
       "      <td>3</td>\n",
       "      <td>3</td>\n",
       "      <td>2</td>\n",
       "    </tr>\n",
       "    <tr>\n",
       "      <th>4</th>\n",
       "      <td>6</td>\n",
       "      <td>4</td>\n",
       "      <td>4</td>\n",
       "      <td>20</td>\n",
       "      <td>4</td>\n",
       "      <td>16</td>\n",
       "    </tr>\n",
       "    <tr>\n",
       "      <th>5</th>\n",
       "      <td>4</td>\n",
       "      <td>5</td>\n",
       "      <td>21</td>\n",
       "      <td>5</td>\n",
       "      <td>5</td>\n",
       "      <td>17</td>\n",
       "    </tr>\n",
       "    <tr>\n",
       "      <th>6</th>\n",
       "      <td>7</td>\n",
       "      <td>6</td>\n",
       "      <td>6</td>\n",
       "      <td>22</td>\n",
       "      <td>18</td>\n",
       "      <td>6</td>\n",
       "    </tr>\n",
       "    <tr>\n",
       "      <th>7</th>\n",
       "      <td>5</td>\n",
       "      <td>7</td>\n",
       "      <td>23</td>\n",
       "      <td>7</td>\n",
       "      <td>19</td>\n",
       "      <td>7</td>\n",
       "    </tr>\n",
       "    <tr>\n",
       "      <th>8</th>\n",
       "      <td>2</td>\n",
       "      <td>8</td>\n",
       "      <td>10</td>\n",
       "      <td>8</td>\n",
       "      <td>8</td>\n",
       "      <td>4</td>\n",
       "    </tr>\n",
       "    <tr>\n",
       "      <th>9</th>\n",
       "      <td>9</td>\n",
       "      <td>0</td>\n",
       "      <td>8</td>\n",
       "      <td>9</td>\n",
       "      <td>9</td>\n",
       "      <td>5</td>\n",
       "    </tr>\n",
       "    <tr>\n",
       "      <th>10</th>\n",
       "      <td>3</td>\n",
       "      <td>10</td>\n",
       "      <td>11</td>\n",
       "      <td>10</td>\n",
       "      <td>6</td>\n",
       "      <td>10</td>\n",
       "    </tr>\n",
       "    <tr>\n",
       "      <th>11</th>\n",
       "      <td>11</td>\n",
       "      <td>1</td>\n",
       "      <td>9</td>\n",
       "      <td>11</td>\n",
       "      <td>7</td>\n",
       "      <td>11</td>\n",
       "    </tr>\n",
       "    <tr>\n",
       "      <th>12</th>\n",
       "      <td>12</td>\n",
       "      <td>13</td>\n",
       "      <td>3</td>\n",
       "      <td>12</td>\n",
       "      <td>12</td>\n",
       "      <td>8</td>\n",
       "    </tr>\n",
       "    <tr>\n",
       "      <th>13</th>\n",
       "      <td>13</td>\n",
       "      <td>15</td>\n",
       "      <td>13</td>\n",
       "      <td>2</td>\n",
       "      <td>13</td>\n",
       "      <td>9</td>\n",
       "    </tr>\n",
       "    <tr>\n",
       "      <th>14</th>\n",
       "      <td>14</td>\n",
       "      <td>12</td>\n",
       "      <td>1</td>\n",
       "      <td>14</td>\n",
       "      <td>10</td>\n",
       "      <td>14</td>\n",
       "    </tr>\n",
       "    <tr>\n",
       "      <th>15</th>\n",
       "      <td>15</td>\n",
       "      <td>14</td>\n",
       "      <td>15</td>\n",
       "      <td>0</td>\n",
       "      <td>11</td>\n",
       "      <td>15</td>\n",
       "    </tr>\n",
       "    <tr>\n",
       "      <th>16</th>\n",
       "      <td>16</td>\n",
       "      <td>22</td>\n",
       "      <td>16</td>\n",
       "      <td>17</td>\n",
       "      <td>16</td>\n",
       "      <td>12</td>\n",
       "    </tr>\n",
       "    <tr>\n",
       "      <th>17</th>\n",
       "      <td>20</td>\n",
       "      <td>17</td>\n",
       "      <td>17</td>\n",
       "      <td>19</td>\n",
       "      <td>17</td>\n",
       "      <td>13</td>\n",
       "    </tr>\n",
       "    <tr>\n",
       "      <th>18</th>\n",
       "      <td>18</td>\n",
       "      <td>23</td>\n",
       "      <td>18</td>\n",
       "      <td>16</td>\n",
       "      <td>14</td>\n",
       "      <td>18</td>\n",
       "    </tr>\n",
       "    <tr>\n",
       "      <th>19</th>\n",
       "      <td>21</td>\n",
       "      <td>19</td>\n",
       "      <td>19</td>\n",
       "      <td>18</td>\n",
       "      <td>15</td>\n",
       "      <td>19</td>\n",
       "    </tr>\n",
       "    <tr>\n",
       "      <th>20</th>\n",
       "      <td>10</td>\n",
       "      <td>20</td>\n",
       "      <td>20</td>\n",
       "      <td>15</td>\n",
       "      <td>22</td>\n",
       "      <td>20</td>\n",
       "    </tr>\n",
       "    <tr>\n",
       "      <th>21</th>\n",
       "      <td>8</td>\n",
       "      <td>21</td>\n",
       "      <td>14</td>\n",
       "      <td>21</td>\n",
       "      <td>20</td>\n",
       "      <td>21</td>\n",
       "    </tr>\n",
       "    <tr>\n",
       "      <th>22</th>\n",
       "      <td>22</td>\n",
       "      <td>11</td>\n",
       "      <td>22</td>\n",
       "      <td>13</td>\n",
       "      <td>23</td>\n",
       "      <td>22</td>\n",
       "    </tr>\n",
       "    <tr>\n",
       "      <th>23</th>\n",
       "      <td>23</td>\n",
       "      <td>9</td>\n",
       "      <td>12</td>\n",
       "      <td>23</td>\n",
       "      <td>21</td>\n",
       "      <td>23</td>\n",
       "    </tr>\n",
       "  </tbody>\n",
       "</table>\n",
       "</div>"
      ],
      "text/plain": [
       "    f0  f1  r0  r1  d0  d1\n",
       "0    0  18   0   4   0   1\n",
       "1    1  16   5   1   1   3\n",
       "2   19   2   2   6   2   0\n",
       "3   17   3   7   3   3   2\n",
       "4    6   4   4  20   4  16\n",
       "5    4   5  21   5   5  17\n",
       "6    7   6   6  22  18   6\n",
       "7    5   7  23   7  19   7\n",
       "8    2   8  10   8   8   4\n",
       "9    9   0   8   9   9   5\n",
       "10   3  10  11  10   6  10\n",
       "11  11   1   9  11   7  11\n",
       "12  12  13   3  12  12   8\n",
       "13  13  15  13   2  13   9\n",
       "14  14  12   1  14  10  14\n",
       "15  15  14  15   0  11  15\n",
       "16  16  22  16  17  16  12\n",
       "17  20  17  17  19  17  13\n",
       "18  18  23  18  16  14  18\n",
       "19  21  19  19  18  15  19\n",
       "20  10  20  20  15  22  20\n",
       "21   8  21  14  21  20  21\n",
       "22  22  11  22  13  23  22\n",
       "23  23   9  12  23  21  23"
      ]
     },
     "execution_count": 77,
     "metadata": {},
     "output_type": "execute_result"
    }
   ],
   "source": [
    "pd.DataFrame(example_allowed_moves)"
   ]
  },
  {
   "cell_type": "markdown",
   "metadata": {},
   "source": [
    "### How to read them?\n",
    "\n",
    "> To read these tables"
   ]
  },
  {
   "cell_type": "markdown",
   "metadata": {},
   "source": [
    "## Solving 2x2 Example"
   ]
  },
  {
   "cell_type": "code",
   "execution_count": 78,
   "metadata": {},
   "outputs": [
    {
     "data": {
      "text/plain": [
       "'cube_2/2/2'"
      ]
     },
     "execution_count": 78,
     "metadata": {},
     "output_type": "execute_result"
    }
   ],
   "source": [
    "example_puzzle_type = puzzle_info_df['puzzle_type'].iloc[0]\n",
    "example_allowed_moves = puzzle_info_df[puzzle_info_df['puzzle_type'] == example_puzzle_type]['allowed_moves'].iloc[0]\n",
    "\n",
    "example_puzzle_type"
   ]
  },
  {
   "cell_type": "code",
   "execution_count": 79,
   "metadata": {},
   "outputs": [
    {
     "name": "stdout",
     "output_type": "stream",
     "text": [
      "Initializing puzzle state machine for cube_2/2/2.\n",
      "Initial state\n",
      "['D', 'E', 'D', 'A', 'E', 'B', 'A', 'B', 'C', 'A', 'C', 'A', 'D', 'C', 'D', 'F', 'F', 'F', 'E', 'E', 'B', 'F', 'B', 'C']\n",
      "Test move:\n",
      "[18, 16, 2, 3, 4, 5, 6, 7, 8, 0, 10, 1, 13, 15, 12, 14, 22, 17, 23, 19, 20, 21, 11, 9]\n",
      "State after applying move\n",
      "['E', 'F', 'D', 'A', 'E', 'B', 'A', 'B', 'C', 'D', 'C', 'E', 'C', 'F', 'D', 'D', 'B', 'F', 'C', 'E', 'B', 'F', 'A', 'A']\n",
      "State after applying inverse move\n",
      "['D', 'E', 'D', 'A', 'E', 'B', 'A', 'B', 'C', 'A', 'C', 'A', 'D', 'C', 'D', 'F', 'F', 'F', 'E', 'E', 'B', 'F', 'B', 'C']\n"
     ]
    }
   ],
   "source": [
    "class PuzzleStateMachine:\n",
    "    def __init__(self, puzzle_type, initial_state, solution_state, allowed_moves):\n",
    "        print(f'Initializing puzzle state machine for {puzzle_type}.')\n",
    "        self.puzzle_type = puzzle_type\n",
    "        self.initial_state = initial_state\n",
    "        self.solution_state = solution_state\n",
    "        self.allowed_moves = allowed_moves\n",
    "        self.state = initial_state\n",
    "        self.history = [initial_state]\n",
    "\n",
    "    def __repr__(self):\n",
    "        return f'PuzzleStateMachine({self.puzzle_type}, {len(self.history)} moves)'\n",
    "    \n",
    "    def check_is_solved(self):\n",
    "        return self.state == self.solution_state\n",
    "\n",
    "    def check_allowed_move(self, move):\n",
    "        if move not in self.allowed_moves.values():\n",
    "            raise ValueError(f'Invalid move number {len(self.history)}: {move}')\n",
    "    \n",
    "    def inverse_move(self, move):\n",
    "        return {v: k for k, v in enumerate(move)}\n",
    "    \n",
    "    def apply_move(self, move, inverse=False):\n",
    "        \"\"\"\n",
    "        Apply a move or its inverse to the puzzle state.\n",
    "\n",
    "        :param move: List representing the move as a permutation.\n",
    "        :param inverse: Boolean indicating whether to apply the inverse of the move.\n",
    "        \"\"\"\n",
    "        if inverse:\n",
    "            inverse_move = self.inverse_move(move)\n",
    "            self.state = [self.state[inverse_move[i]] for i in range(len(self.state))]\n",
    "        else:\n",
    "            self.state = [self.state[i] for i in move]\n",
    "        self.history.append(self.state)\n",
    "        \n",
    "    def revert_move(self):\n",
    "        if len(self.history) > 1:\n",
    "            self.history.pop()\n",
    "            self.state = self.history[-1]\n",
    "        else:\n",
    "            raise ValueError('Cannot revert initial state')\n",
    "\n",
    "test_state = puzzles_df['parsed_initial_state'].iloc[0]\n",
    "test_move = example_allowed_moves['f1']\n",
    "\n",
    "puzzle = PuzzleStateMachine(\n",
    "    example_puzzle_type, \n",
    "    test_state, \n",
    "    test_state, \n",
    "    example_allowed_moves\n",
    ")\n",
    "\n",
    "\n",
    "print('Initial state')\n",
    "print(puzzle.state)\n",
    "\n",
    "print(f\"Test move:\")\n",
    "print(test_move)\n",
    "\n",
    "puzzle.apply_move(test_move)\n",
    "print('State after applying move')\n",
    "print(puzzle.state)\n",
    "puzzle.apply_move(test_move, inverse=True)\n",
    "print('State after applying inverse move')\n",
    "print(puzzle.state)"
   ]
  },
  {
   "cell_type": "code",
   "execution_count": 80,
   "metadata": {},
   "outputs": [
    {
     "name": "stdout",
     "output_type": "stream",
     "text": [
      "Initializing puzzle state machine for cube_2/2/2.\n",
      "A* solution: [('r1', False), ('f1', True)]\n"
     ]
    },
    {
     "data": {
      "text/plain": [
       "True"
      ]
     },
     "execution_count": 80,
     "metadata": {},
     "output_type": "execute_result"
    }
   ],
   "source": [
    "def heurestic(state, goal_state):\n",
    "    \"\"\"\n",
    "    Heuristic function estimating the cost from the current state to the goal state.\n",
    "    Here, we use the number of mismatched colors between the current state and the goal state.\n",
    "    \"\"\"\n",
    "    return sum(s != g for s, g in zip(state, goal_state))\n",
    "\n",
    "def apply_move(state, move, inverse=False):\n",
    "    \"\"\"\n",
    "    Apply a move or its inverse to the puzzle state.\n",
    "\n",
    "    :param state: List of colors representing the current state of the puzzle.\n",
    "    :param move: List representing the move as a permutation.\n",
    "    :param inverse: Boolean indicating whether to apply the inverse of the move.\n",
    "    :return: New state of the puzzle after applying the move.\n",
    "    \"\"\"\n",
    "    if inverse:\n",
    "        # Creating a dictionary to map the original positions to the new positions\n",
    "        inverse_move = {v: k for k, v in enumerate(move)}\n",
    "        try:\n",
    "            return [state[inverse_move[i]] for i in range(len(state))]\n",
    "        except Exception as e:\n",
    "            print(f\"Len state: {len(state)}, len inverse_move: {len(inverse_move)}\")\n",
    "            raise e\n",
    "    else:\n",
    "        return [state[i] for i in move]\n",
    "    \n",
    "def a_star_search_with_timeout(puzzle, timeout=300):\n",
    "    \"\"\"\n",
    "    A* search algorithm with a timeout feature.\n",
    "\n",
    "    :param puzzle: Puzzle state machine object.\n",
    "    :param timeout: The maximum time (in seconds) allowed for the search.\n",
    "    :return: The shortest sequence of moves to solve the puzzle. Returns None if no solution is found.\n",
    "    \"\"\"\n",
    "\n",
    "    # unpack puzzle object\n",
    "    initial_state = puzzle.initial_state\n",
    "    goal_state = puzzle.solution_state\n",
    "    allowed_moves = puzzle.allowed_moves\n",
    "\n",
    "    start_time = time.time()\n",
    "    open_set = []  # priority queue of nodes to explore\n",
    "    heapq.heappush(open_set, (0, initial_state, [])) # Each entry: (priority, state, path taken)\n",
    "\n",
    "    closed_set = set() # set of states already explored\n",
    "\n",
    "    while open_set:\n",
    "        if time.time() - start_time > timeout:\n",
    "            return None\n",
    "\n",
    "        _, current_state, path = heapq.heappop(open_set)\n",
    "\n",
    "        if current_state == goal_state:\n",
    "            return path # solution found\n",
    "        \n",
    "        state_tuple = tuple(current_state)\n",
    "        if state_tuple in closed_set:\n",
    "            continue # skip already explored states\n",
    "\n",
    "        closed_set.add(state_tuple)\n",
    "\n",
    "        for move_name, move in allowed_moves.items():\n",
    "            for inverse in [False, True]: # consider both move and its inverse\n",
    "                new_state = apply_move(current_state, move, inverse)\n",
    "                new_state_tuple = tuple(new_state)\n",
    "                if new_state_tuple not in closed_set:\n",
    "                    priority = len(path) + 1 + heurestic(new_state, goal_state)\n",
    "                    heapq.heappush(open_set, (priority, new_state, path + [(move_name, inverse)]))\n",
    "\n",
    "# testing with an example\n",
    "                    \n",
    "test_puzzle_type = puzzles_df['puzzle_type'].iloc[0]\n",
    "test_initial_state = puzzles_df['parsed_initial_state'].iloc[0]\n",
    "test_goal_state = puzzles_df['parsed_solution_state'].iloc[0]\n",
    "test_allowed_moves = example_allowed_moves\n",
    "\n",
    "test_puzzle = PuzzleStateMachine(\n",
    "    test_puzzle_type, \n",
    "    test_initial_state, \n",
    "    test_goal_state, \n",
    "    test_allowed_moves\n",
    ")\n",
    "\n",
    "a_star_solution = a_star_search_with_timeout(\n",
    "    test_puzzle,\n",
    ")\n",
    "print(f\"A* solution: {a_star_solution}\")\n",
    "\n",
    "# testing solution with state machine\n",
    "for move in a_star_solution:\n",
    "    test_puzzle.apply_move(test_allowed_moves[move[0]], inverse=move[1])\n",
    "\n",
    "test_puzzle.check_is_solved()"
   ]
  },
  {
   "cell_type": "code",
   "execution_count": 81,
   "metadata": {},
   "outputs": [
    {
     "name": "stdout",
     "output_type": "stream",
     "text": [
      "Initializing puzzle state machine for cube_2/2/2.\n",
      "Improved solution: [('r1', False), ('f1', True)]\n"
     ]
    },
    {
     "data": {
      "text/plain": [
       "True"
      ]
     },
     "execution_count": 81,
     "metadata": {},
     "output_type": "execute_result"
    }
   ],
   "source": [
    "# Modifying the A* search algorithm to improve efficiency\n",
    "def improved_heuristic_with_wildcards(state, goal_state, num_wildcards):\n",
    "    \"\"\"\n",
    "    Improved heuristic function considering wildcards.\n",
    "    \"\"\"\n",
    "    mismatches = sum(s != g for s, g in zip(state, goal_state))\n",
    "    return max(0, mismatches - num_wildcards)\n",
    "\n",
    "def improved_a_star_search_with_wildcards(puzzle, num_wildcards, max_depth=30, timeout=100):\n",
    "    \"\"\"\n",
    "    Improved A* search algorithm with wildcards, depth limit, and timeout.\n",
    "\n",
    "    :param initial_state: List representing the initial state of the puzzle.\n",
    "    :param goal_state: List representing the goal state of the puzzle.\n",
    "    :param allowed_moves: Dictionary of allowed moves and their corresponding permutations.\n",
    "    :param num_wildcards: Number of wildcards allowed for the puzzle.\n",
    "    :param max_depth: Maximum depth to search to limit the search space.\n",
    "    :param timeout: Time limit in seconds for the search.\n",
    "    :return: Shortest sequence of moves to solve the puzzle, or None if no solution is found.\n",
    "    \"\"\"\n",
    "\n",
    "    # unpack puzzle object\n",
    "    initial_state = puzzle.initial_state\n",
    "    goal_state = puzzle.solution_state\n",
    "    allowed_moves = puzzle.allowed_moves\n",
    "    \n",
    "    start_time = time.time()\n",
    "    open_set = []\n",
    "    heapq.heappush(open_set, (0, initial_state, [], num_wildcards))  # (priority, state, path, remaining wildcards)\n",
    "    closed_set = set()\n",
    "\n",
    "    while open_set:\n",
    "        if time.time() - start_time > timeout:\n",
    "            return None  # Timeout\n",
    "\n",
    "        _, current_state, path, remaining_wildcards = heapq.heappop(open_set)\n",
    "\n",
    "        if len(path) > max_depth:  # Depth limit\n",
    "            continue\n",
    "\n",
    "        if current_state == goal_state or improved_heuristic_with_wildcards(current_state, goal_state, remaining_wildcards) == 0:\n",
    "            return path\n",
    "\n",
    "        closed_set.add((tuple(current_state), remaining_wildcards))\n",
    "\n",
    "        for move_name, move in allowed_moves.items():\n",
    "            for inverse in [False, True]:\n",
    "                new_state = apply_move(current_state, move, inverse)\n",
    "                if (tuple(new_state), remaining_wildcards) not in closed_set:\n",
    "                    priority = len(path) + 1 + improved_heuristic_with_wildcards(new_state, goal_state, remaining_wildcards)\n",
    "                    heapq.heappush(open_set, (priority, new_state, path + [(move_name, inverse)], remaining_wildcards))\n",
    "\n",
    "    return None  # No solution found\n",
    "\n",
    "# Running the improved A* search to find a solution\n",
    "test_num_wildcards = puzzles_df['num_wildcards'].iloc[0]\n",
    "\n",
    "new_test_puzzle = PuzzleStateMachine(\n",
    "    test_puzzle_type, \n",
    "    test_initial_state, \n",
    "    test_goal_state, \n",
    "    test_allowed_moves\n",
    ")\n",
    "improved_a_star_solution = improved_a_star_search_with_wildcards(new_test_puzzle, test_num_wildcards)\n",
    "print(f\"Improved solution: {improved_a_star_solution}\")  # Display the solution moves (if found)\n",
    "\n",
    "for move in improved_a_star_solution:\n",
    "    new_test_puzzle.apply_move(test_allowed_moves[move[0]], inverse=move[1])\n",
    "\n",
    "new_test_puzzle.check_is_solved()"
   ]
  },
  {
   "cell_type": "markdown",
   "metadata": {},
   "source": [
    "## Submission format"
   ]
  },
  {
   "cell_type": "code",
   "execution_count": 82,
   "metadata": {},
   "outputs": [
    {
     "data": {
      "text/plain": [
       "{'id': 0, 'moves': 'r1.-f1'}"
      ]
     },
     "execution_count": 82,
     "metadata": {},
     "output_type": "execute_result"
    }
   ],
   "source": [
    "def format_solution_for_submission(puzzle_id, solution_moves):\n",
    "    \"\"\"\n",
    "    Format the solution to a puzzle for submission.\n",
    "\n",
    "    :param puzzle_id: The unique identifier of the puzzle.\n",
    "    :param solution_moves: List of tuples representing the solution moves.\n",
    "    :return: Formatted string suitable for submission.\n",
    "    \"\"\"\n",
    "    formatted_moves = []\n",
    "    for move, inverse in solution_moves:\n",
    "        move_str = '-' + move if inverse else move\n",
    "        formatted_moves.append(move_str)\n",
    "\n",
    "    # Joining the moves into a single string separated by periods\n",
    "    return {'id': puzzle_id, 'moves': '.'.join(formatted_moves)}\n",
    "\n",
    "# Example: Formatting the solution for the first puzzle in the dataframe for submission\n",
    "puzzle_id_example = puzzles_df['id'].iloc[0]\n",
    "formatted_solution = format_solution_for_submission(puzzle_id_example, a_star_solution)\n",
    "formatted_solution"
   ]
  },
  {
   "cell_type": "markdown",
   "metadata": {},
   "source": [
    "## Define solve function"
   ]
  },
  {
   "cell_type": "code",
   "execution_count": 83,
   "metadata": {},
   "outputs": [
    {
     "name": "stderr",
     "output_type": "stream",
     "text": [
      "Solving Puzzles:   0%|          | 0/398 [00:00<?, ?it/s]"
     ]
    },
    {
     "name": "stdout",
     "output_type": "stream",
     "text": [
      "Initializing puzzle state machine for cube_2/2/2.\n",
      "Initializing puzzle state machine for cube_2/2/2.\n"
     ]
    },
    {
     "name": "stderr",
     "output_type": "stream",
     "text": [
      "Solving Puzzles:   1%|          | 2/398 [00:00<00:29, 13.54it/s]"
     ]
    },
    {
     "name": "stdout",
     "output_type": "stream",
     "text": [
      "Initializing puzzle state machine for cube_2/2/2.\n",
      "Initializing puzzle state machine for cube_2/2/2.\n"
     ]
    },
    {
     "name": "stderr",
     "output_type": "stream",
     "text": [
      "Solving Puzzles:   1%|          | 4/398 [00:11<21:31,  3.28s/it]"
     ]
    },
    {
     "name": "stdout",
     "output_type": "stream",
     "text": [
      "Initializing puzzle state machine for cube_2/2/2.\n"
     ]
    },
    {
     "name": "stderr",
     "output_type": "stream",
     "text": [
      "Solving Puzzles:   1%|▏         | 5/398 [00:28<47:58,  7.33s/it]"
     ]
    },
    {
     "name": "stdout",
     "output_type": "stream",
     "text": [
      "Initializing puzzle state machine for cube_2/2/2.\n"
     ]
    },
    {
     "name": "stderr",
     "output_type": "stream",
     "text": [
      "Solving Puzzles:   2%|▏         | 6/398 [00:35<48:04,  7.36s/it]"
     ]
    },
    {
     "name": "stdout",
     "output_type": "stream",
     "text": [
      "Initializing puzzle state machine for cube_2/2/2.\n"
     ]
    },
    {
     "name": "stderr",
     "output_type": "stream",
     "text": [
      "Solving Puzzles:   2%|▏         | 7/398 [00:36<36:17,  5.57s/it]"
     ]
    },
    {
     "name": "stdout",
     "output_type": "stream",
     "text": [
      "Initializing puzzle state machine for cube_2/2/2.\n"
     ]
    },
    {
     "name": "stderr",
     "output_type": "stream",
     "text": [
      "Solving Puzzles:   2%|▏         | 8/398 [00:57<1:05:05, 10.01s/it]"
     ]
    },
    {
     "name": "stdout",
     "output_type": "stream",
     "text": [
      "Initializing puzzle state machine for cube_2/2/2.\n"
     ]
    },
    {
     "name": "stderr",
     "output_type": "stream",
     "text": [
      "Solving Puzzles:   2%|▏         | 9/398 [01:01<53:34,  8.26s/it]  "
     ]
    },
    {
     "name": "stdout",
     "output_type": "stream",
     "text": [
      "Initializing puzzle state machine for cube_2/2/2.\n"
     ]
    },
    {
     "name": "stderr",
     "output_type": "stream",
     "text": [
      "Solving Puzzles:   3%|▎         | 10/398 [01:25<1:23:42, 12.94s/it]"
     ]
    },
    {
     "name": "stdout",
     "output_type": "stream",
     "text": [
      "Initializing puzzle state machine for cube_2/2/2.\n"
     ]
    },
    {
     "name": "stderr",
     "output_type": "stream",
     "text": [
      "Solving Puzzles:   3%|▎         | 11/398 [01:26<1:00:46,  9.42s/it]"
     ]
    },
    {
     "name": "stdout",
     "output_type": "stream",
     "text": [
      "Initializing puzzle state machine for cube_2/2/2.\n"
     ]
    },
    {
     "name": "stderr",
     "output_type": "stream",
     "text": [
      "Solving Puzzles:   3%|▎         | 12/398 [01:30<49:05,  7.63s/it]  "
     ]
    },
    {
     "name": "stdout",
     "output_type": "stream",
     "text": [
      "Initializing puzzle state machine for cube_2/2/2.\n"
     ]
    },
    {
     "name": "stderr",
     "output_type": "stream",
     "text": [
      "Solving Puzzles:   3%|▎         | 13/398 [01:47<1:07:53, 10.58s/it]"
     ]
    },
    {
     "name": "stdout",
     "output_type": "stream",
     "text": [
      "Initializing puzzle state machine for cube_2/2/2.\n"
     ]
    },
    {
     "name": "stderr",
     "output_type": "stream",
     "text": [
      "Solving Puzzles:   4%|▎         | 14/398 [01:52<57:17,  8.95s/it]  "
     ]
    },
    {
     "name": "stdout",
     "output_type": "stream",
     "text": [
      "Initializing puzzle state machine for cube_2/2/2.\n"
     ]
    },
    {
     "name": "stderr",
     "output_type": "stream",
     "text": [
      "Solving Puzzles:   4%|▍         | 15/398 [02:21<1:34:32, 14.81s/it]"
     ]
    },
    {
     "name": "stdout",
     "output_type": "stream",
     "text": [
      "Initializing puzzle state machine for cube_2/2/2.\n"
     ]
    },
    {
     "name": "stderr",
     "output_type": "stream",
     "text": [
      "Solving Puzzles:   4%|▍         | 16/398 [02:22<1:08:58, 10.83s/it]"
     ]
    },
    {
     "name": "stdout",
     "output_type": "stream",
     "text": [
      "Initializing puzzle state machine for cube_2/2/2.\n"
     ]
    },
    {
     "name": "stderr",
     "output_type": "stream",
     "text": [
      "Solving Puzzles:   4%|▍         | 17/398 [02:25<52:57,  8.34s/it]  "
     ]
    },
    {
     "name": "stdout",
     "output_type": "stream",
     "text": [
      "Initializing puzzle state machine for cube_2/2/2.\n"
     ]
    },
    {
     "name": "stderr",
     "output_type": "stream",
     "text": [
      "Solving Puzzles:   5%|▍         | 18/398 [02:33<53:04,  8.38s/it]"
     ]
    },
    {
     "name": "stdout",
     "output_type": "stream",
     "text": [
      "Initializing puzzle state machine for cube_2/2/2.\n"
     ]
    },
    {
     "name": "stderr",
     "output_type": "stream",
     "text": [
      "Solving Puzzles:   5%|▍         | 19/398 [02:36<42:50,  6.78s/it]"
     ]
    },
    {
     "name": "stdout",
     "output_type": "stream",
     "text": [
      "Initializing puzzle state machine for cube_2/2/2.\n"
     ]
    },
    {
     "name": "stderr",
     "output_type": "stream",
     "text": [
      "Solving Puzzles:   5%|▌         | 20/398 [02:50<56:30,  8.97s/it]"
     ]
    },
    {
     "name": "stdout",
     "output_type": "stream",
     "text": [
      "Initializing puzzle state machine for cube_2/2/2.\n"
     ]
    },
    {
     "name": "stderr",
     "output_type": "stream",
     "text": [
      "Solving Puzzles:   5%|▌         | 21/398 [03:36<2:06:04, 20.06s/it]"
     ]
    },
    {
     "name": "stdout",
     "output_type": "stream",
     "text": [
      "Initializing puzzle state machine for cube_2/2/2.\n"
     ]
    },
    {
     "name": "stderr",
     "output_type": "stream",
     "text": [
      "Solving Puzzles:   6%|▌         | 22/398 [05:06<4:16:13, 40.89s/it]"
     ]
    },
    {
     "name": "stdout",
     "output_type": "stream",
     "text": [
      "Initializing puzzle state machine for cube_2/2/2.\n"
     ]
    },
    {
     "name": "stderr",
     "output_type": "stream",
     "text": [
      "Solving Puzzles:   6%|▌         | 23/398 [05:15<3:16:34, 31.45s/it]"
     ]
    },
    {
     "name": "stdout",
     "output_type": "stream",
     "text": [
      "Initializing puzzle state machine for cube_2/2/2.\n"
     ]
    },
    {
     "name": "stderr",
     "output_type": "stream",
     "text": [
      "Solving Puzzles:   6%|▌         | 24/398 [05:18<2:21:34, 22.71s/it]"
     ]
    },
    {
     "name": "stdout",
     "output_type": "stream",
     "text": [
      "Initializing puzzle state machine for cube_2/2/2.\n"
     ]
    },
    {
     "name": "stderr",
     "output_type": "stream",
     "text": [
      "Solving Puzzles:   6%|▋         | 25/398 [05:22<1:47:11, 17.24s/it]"
     ]
    },
    {
     "name": "stdout",
     "output_type": "stream",
     "text": [
      "Initializing puzzle state machine for cube_2/2/2.\n"
     ]
    },
    {
     "name": "stderr",
     "output_type": "stream",
     "text": [
      "Solving Puzzles:   7%|▋         | 26/398 [05:34<1:36:19, 15.54s/it]"
     ]
    },
    {
     "name": "stdout",
     "output_type": "stream",
     "text": [
      "Initializing puzzle state machine for cube_2/2/2.\n"
     ]
    },
    {
     "name": "stderr",
     "output_type": "stream",
     "text": [
      "Solving Puzzles:   7%|▋         | 27/398 [06:18<2:29:36, 24.20s/it]"
     ]
    },
    {
     "name": "stdout",
     "output_type": "stream",
     "text": [
      "Initializing puzzle state machine for cube_2/2/2.\n"
     ]
    },
    {
     "name": "stderr",
     "output_type": "stream",
     "text": [
      "Solving Puzzles:   7%|▋         | 28/398 [06:37<2:19:11, 22.57s/it]"
     ]
    },
    {
     "name": "stdout",
     "output_type": "stream",
     "text": [
      "Initializing puzzle state machine for cube_2/2/2.\n"
     ]
    },
    {
     "name": "stderr",
     "output_type": "stream",
     "text": [
      "Solving Puzzles:   7%|▋         | 29/398 [07:01<2:22:41, 23.20s/it]"
     ]
    },
    {
     "name": "stdout",
     "output_type": "stream",
     "text": [
      "Initializing puzzle state machine for cube_2/2/2.\n"
     ]
    },
    {
     "name": "stderr",
     "output_type": "stream",
     "text": [
      "Solving Puzzles: 100%|██████████| 398/398 [07:17<00:00,  1.10s/it] \n"
     ]
    },
    {
     "data": {
      "text/html": [
       "<div>\n",
       "<style scoped>\n",
       "    .dataframe tbody tr th:only-of-type {\n",
       "        vertical-align: middle;\n",
       "    }\n",
       "\n",
       "    .dataframe tbody tr th {\n",
       "        vertical-align: top;\n",
       "    }\n",
       "\n",
       "    .dataframe thead th {\n",
       "        text-align: right;\n",
       "    }\n",
       "</style>\n",
       "<table border=\"1\" class=\"dataframe\">\n",
       "  <thead>\n",
       "    <tr style=\"text-align: right;\">\n",
       "      <th></th>\n",
       "      <th>id</th>\n",
       "      <th>moves</th>\n",
       "    </tr>\n",
       "  </thead>\n",
       "  <tbody>\n",
       "    <tr>\n",
       "      <th>0</th>\n",
       "      <td>0</td>\n",
       "      <td>r1.-f1</td>\n",
       "    </tr>\n",
       "    <tr>\n",
       "      <th>1</th>\n",
       "      <td>1</td>\n",
       "      <td>f0.r1.f1.-d0.-d0.-f0.-r0.f0.d0</td>\n",
       "    </tr>\n",
       "    <tr>\n",
       "      <th>2</th>\n",
       "      <td>2</td>\n",
       "      <td>-d1.-r0.f0.-r1.f1.d1.-r1.-f0.d1.f0.d1.d1</td>\n",
       "    </tr>\n",
       "    <tr>\n",
       "      <th>3</th>\n",
       "      <td>3</td>\n",
       "      <td>-f0.d0.-r0.f0.-d0.-r0.d0.-f0.-r0.-f0</td>\n",
       "    </tr>\n",
       "    <tr>\n",
       "      <th>4</th>\n",
       "      <td>4</td>\n",
       "      <td>-r1.-f0.d0.r0.-d1.-d1.r1.d1.f0.r1.-d1.-r1</td>\n",
       "    </tr>\n",
       "    <tr>\n",
       "      <th>...</th>\n",
       "      <td>...</td>\n",
       "      <td>...</td>\n",
       "    </tr>\n",
       "    <tr>\n",
       "      <th>393</th>\n",
       "      <td>393</td>\n",
       "      <td>f19.f21.-f39.f20.f2.-f5.f7.-r3.f55.-f12.f65.-f...</td>\n",
       "    </tr>\n",
       "    <tr>\n",
       "      <th>394</th>\n",
       "      <td>394</td>\n",
       "      <td>-f31.-f22.f16.-f17.-f13.-f24.-f14.f2.f21.f44.f...</td>\n",
       "    </tr>\n",
       "    <tr>\n",
       "      <th>395</th>\n",
       "      <td>395</td>\n",
       "      <td>-r0.-f42.-f8.f16.-f49.f14.-f1.f56.f26.f35.f62....</td>\n",
       "    </tr>\n",
       "    <tr>\n",
       "      <th>396</th>\n",
       "      <td>396</td>\n",
       "      <td>f25.-f29.f46.f49.-f8.f27.f26.-f20.f2.-f20.f6.f...</td>\n",
       "    </tr>\n",
       "    <tr>\n",
       "      <th>397</th>\n",
       "      <td>397</td>\n",
       "      <td>-r1.f23.-f24.-r2.f30.f30.f38.-f19.f24.f19.f18....</td>\n",
       "    </tr>\n",
       "  </tbody>\n",
       "</table>\n",
       "<p>398 rows × 2 columns</p>\n",
       "</div>"
      ],
      "text/plain": [
       "      id                                              moves\n",
       "0      0                                             r1.-f1\n",
       "1      1                     f0.r1.f1.-d0.-d0.-f0.-r0.f0.d0\n",
       "2      2           -d1.-r0.f0.-r1.f1.d1.-r1.-f0.d1.f0.d1.d1\n",
       "3      3               -f0.d0.-r0.f0.-d0.-r0.d0.-f0.-r0.-f0\n",
       "4      4          -r1.-f0.d0.r0.-d1.-d1.r1.d1.f0.r1.-d1.-r1\n",
       "..   ...                                                ...\n",
       "393  393  f19.f21.-f39.f20.f2.-f5.f7.-r3.f55.-f12.f65.-f...\n",
       "394  394  -f31.-f22.f16.-f17.-f13.-f24.-f14.f2.f21.f44.f...\n",
       "395  395  -r0.-f42.-f8.f16.-f49.f14.-f1.f56.f26.f35.f62....\n",
       "396  396  f25.-f29.f46.f49.-f8.f27.f26.-f20.f2.-f20.f6.f...\n",
       "397  397  -r1.f23.-f24.-r2.f30.f30.f38.-f19.f24.f19.f18....\n",
       "\n",
       "[398 rows x 2 columns]"
      ]
     },
     "execution_count": 83,
     "metadata": {},
     "output_type": "execute_result"
    }
   ],
   "source": [
    "def solve_puzzles(puzzles_df, puzzle_info_df, sample_submission_df, num_puzzles=None, limit_index=30):\n",
    "    \"\"\"\n",
    "    Solve a set of puzzles using the A* search algorithm.\n",
    "\n",
    "    :param puzzles_df: DataFrame containing puzzles.\n",
    "    :param puzzle_info_df: DataFrame containing allowed moves for each puzzle type.\n",
    "    :param sample_submission_df: DataFrame containing sample submission format.\n",
    "    :param num_puzzles: Number of puzzles to solve (if None, solve all).\n",
    "    :return: DataFrame with the solutions formatted for submission.\n",
    "    \"\"\"\n",
    "    solutions = []\n",
    "\n",
    "    # limit the number of puzzles if specified\n",
    "    puzzles_to_solve = puzzles_df if num_puzzles is None else puzzles_df.head(num_puzzles)\n",
    "\n",
    "    for index, row in tqdm(puzzles_to_solve.iterrows(), total=puzzles_to_solve.shape[0], desc=\"Solving Puzzles\"):\n",
    "        puzzle_id = row['id']\n",
    "        initial_state = row['parsed_initial_state']\n",
    "        solution_state = row['parsed_solution_state']\n",
    "        puzzle_type = row['puzzle_type']\n",
    "        num_wildcards = row['num_wildcards']\n",
    "        allowed_moves = puzzle_info_df[puzzle_info_df['puzzle_type'] == puzzle_type]['allowed_moves'].iloc[0]\n",
    "\n",
    "        solution_moves = None\n",
    "        if index < limit_index:\n",
    "            solution_moves = improved_a_star_search_with_wildcards(\n",
    "                PuzzleStateMachine(puzzle_type, initial_state, solution_state, allowed_moves),\n",
    "                num_wildcards\n",
    "            )\n",
    "        # if no solution found, \n",
    "        if solution_moves is None:\n",
    "            solution_moves = sample_submission_df[\n",
    "                sample_submission_df['id'] == puzzle_id\n",
    "            ]['moves'].iloc[0].split('.')\n",
    "            solution_moves = [(move.replace('-', ''), move.startswith('-')) for move in solution_moves]\n",
    "\n",
    "        formatted_solution = format_solution_for_submission(puzzle_id, solution_moves)\n",
    "        solutions.append(formatted_solution)\n",
    "\n",
    "    return pd.DataFrame(solutions)\n",
    "\n",
    "# Solving the puzzles\n",
    "solved_puzzles_df = solve_puzzles(puzzles_df, puzzle_info_df, sample_submission_df)\n",
    "solved_puzzles_df"
   ]
  },
  {
   "cell_type": "markdown",
   "metadata": {},
   "source": [
    "## Submission"
   ]
  },
  {
   "cell_type": "code",
   "execution_count": 85,
   "metadata": {},
   "outputs": [
    {
     "name": "stdout",
     "output_type": "stream",
     "text": [
      "Saved solution to submission.csv\n"
     ]
    }
   ],
   "source": [
    "# Define the file path for the output CSV file\n",
    "output_csv_path = 'submission.csv'\n",
    "solved_puzzles_df.to_csv(output_csv_path, index=False)\n",
    "print(f\"Saved solution to {output_csv_path}\")"
   ]
  }
 ],
 "metadata": {
  "kernelspec": {
   "display_name": "kaggling",
   "language": "python",
   "name": "python3"
  },
  "language_info": {
   "codemirror_mode": {
    "name": "ipython",
    "version": 3
   },
   "file_extension": ".py",
   "mimetype": "text/x-python",
   "name": "python",
   "nbconvert_exporter": "python",
   "pygments_lexer": "ipython3",
   "version": "3.10.11"
  }
 },
 "nbformat": 4,
 "nbformat_minor": 2
}
